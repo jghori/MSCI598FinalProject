{
  "cells": [
    {
      "cell_type": "code",
      "execution_count": 1,
      "metadata": {
        "id": "9b949f01"
      },
      "outputs": [],
      "source": [
        "import pandas as pd\n",
        "import numpy as np"
      ],
      "id": "9b949f01"
    },
    {
      "cell_type": "code",
      "execution_count": 2,
      "metadata": {
        "id": "6nzQ4bfgJTBo",
        "colab": {
          "base_uri": "https://localhost:8080/"
        },
        "outputId": "81e52f3b-0088-4c13-930b-71d93a3fe178"
      },
      "outputs": [
        {
          "output_type": "stream",
          "name": "stdout",
          "text": [
            "Mounted at /content/drive\n"
          ]
        }
      ],
      "source": [
        "from google.colab import drive\n",
        "drive.mount('/content/drive')"
      ],
      "id": "6nzQ4bfgJTBo"
    },
    {
      "cell_type": "code",
      "execution_count": null,
      "metadata": {
        "id": "12eb151a"
      },
      "outputs": [],
      "source": [
        "train_stances = pd.read_csv('/content/drive/My Drive/Colab Notebooks/train_stances.csv')\n",
        "train_bodies = pd.read_csv('/content/drive/My Drive/Colab Notebooks/train_bodies.csv')\n"
      ],
      "id": "12eb151a"
    },
    {
      "cell_type": "code",
      "execution_count": 60,
      "metadata": {
        "id": "7b99c167"
      },
      "outputs": [],
      "source": [
        "test_stances = pd.read_csv('/content/drive/My Drive/Colab Notebooks/competition_test_stances.csv')\n",
        "test_bodies = pd.read_csv('/content/drive/My Drive/Colab Notebooks/competition_test_bodies.csv')"
      ],
      "id": "7b99c167"
    },
    {
      "cell_type": "code",
      "source": [
        "train = (pd.merge(train_stances, train_bodies, on = 'Body ID', how = 'left'))"
      ],
      "metadata": {
        "id": "cuby102zoXVe"
      },
      "id": "cuby102zoXVe",
      "execution_count": null,
      "outputs": []
    },
    {
      "cell_type": "code",
      "source": [
        "test = (pd.merge(test_stances, test_bodies, on = 'Body ID', how = 'left'))"
      ],
      "metadata": {
        "id": "g6Ns4rkNooub"
      },
      "id": "g6Ns4rkNooub",
      "execution_count": null,
      "outputs": []
    },
    {
      "cell_type": "code",
      "source": [
        "train.to_csv('/content/drive/My Drive/Colab Notebooks/trainMSCI.csv', index=False, encoding='utf-8')\n",
        "test.to_csv('/content/drive/My Drive/Colab Notebooks/testMSCI.csv', index=False, encoding='utf-8')\n"
      ],
      "metadata": {
        "id": "odVLXZZ8oxtp"
      },
      "id": "odVLXZZ8oxtp",
      "execution_count": null,
      "outputs": []
    },
    {
      "cell_type": "code",
      "source": [
        "train = pd.read_csv('/content/drive/My Drive/Colab Notebooks/trainMSCI.csv')\n",
        "test = pd.read_csv('/content/drive/My Drive/Colab Notebooks/testMSCI.csv')"
      ],
      "metadata": {
        "id": "jpT9IRRItGIV"
      },
      "id": "jpT9IRRItGIV",
      "execution_count": 4,
      "outputs": []
    },
    {
      "cell_type": "code",
      "source": [
        "train"
      ],
      "metadata": {
        "colab": {
          "base_uri": "https://localhost:8080/",
          "height": 419
        },
        "id": "hS4QHH8ktNyO",
        "outputId": "28379a30-d9e9-4b63-d7d1-efffafb16086"
      },
      "id": "hS4QHH8ktNyO",
      "execution_count": 5,
      "outputs": [
        {
          "output_type": "execute_result",
          "data": {
            "text/plain": [
              "                                                Headline  Body ID     Stance  \\\n",
              "0      police find mass grave least body near mexico ...      712  unrelated   \n",
              "1      hundred palestinians flee flood gaza israel op...      158      agree   \n",
              "2      christian bale pass role steve jobs actor repo...      137  unrelated   \n",
              "3      hbo apple talks month apple tv streaming servi...     1034  unrelated   \n",
              "4                    spider burrow tourist stomach chest     1923   disagree   \n",
              "...                                                  ...      ...        ...   \n",
              "49967  urgent leader isil abu bakr albaghdadi kill photo     1681  unrelated   \n",
              "49968  brian williams slams social media speculation ...     2419  unrelated   \n",
              "49969      mexico say miss student find first mass grave     1156      agree   \n",
              "49970  us lawmaker ten isis fighter apprehend come ac...     1012    discuss   \n",
              "49971    shot hear allege brown shooting recording audio     2044  unrelated   \n",
              "\n",
              "                                             articleBody  isRelated  \n",
              "0      danny boyle directing untitled film seth rogen...          0  \n",
              "1      hundreds palestinians evacuated homes sunday m...          1  \n",
              "2      yearold moscow resident hospitalized wounds in...          0  \n",
              "3      reuters canadian soldier shot canadian war mem...          0  \n",
              "4      fear arachnophobes story bunburys spiderman mi...          1  \n",
              "...                                                  ...        ...  \n",
              "49967  cnn boko haram laughed nigerias announcement c...          0  \n",
              "49968  along unveiling apple watch earlier year compa...          0  \n",
              "49969  bodies found mass grave confirmed missing stud...          1  \n",
              "49970  rep duncan hunter rca told greta van susteren ...          1  \n",
              "49971  married tv actor met young woman kissed sauna ...          0  \n",
              "\n",
              "[49972 rows x 5 columns]"
            ],
            "text/html": [
              "\n",
              "  <div id=\"df-5ba13c2a-33c8-4c97-906e-f002eb279569\">\n",
              "    <div class=\"colab-df-container\">\n",
              "      <div>\n",
              "<style scoped>\n",
              "    .dataframe tbody tr th:only-of-type {\n",
              "        vertical-align: middle;\n",
              "    }\n",
              "\n",
              "    .dataframe tbody tr th {\n",
              "        vertical-align: top;\n",
              "    }\n",
              "\n",
              "    .dataframe thead th {\n",
              "        text-align: right;\n",
              "    }\n",
              "</style>\n",
              "<table border=\"1\" class=\"dataframe\">\n",
              "  <thead>\n",
              "    <tr style=\"text-align: right;\">\n",
              "      <th></th>\n",
              "      <th>Headline</th>\n",
              "      <th>Body ID</th>\n",
              "      <th>Stance</th>\n",
              "      <th>articleBody</th>\n",
              "      <th>isRelated</th>\n",
              "    </tr>\n",
              "  </thead>\n",
              "  <tbody>\n",
              "    <tr>\n",
              "      <th>0</th>\n",
              "      <td>police find mass grave least body near mexico ...</td>\n",
              "      <td>712</td>\n",
              "      <td>unrelated</td>\n",
              "      <td>danny boyle directing untitled film seth rogen...</td>\n",
              "      <td>0</td>\n",
              "    </tr>\n",
              "    <tr>\n",
              "      <th>1</th>\n",
              "      <td>hundred palestinians flee flood gaza israel op...</td>\n",
              "      <td>158</td>\n",
              "      <td>agree</td>\n",
              "      <td>hundreds palestinians evacuated homes sunday m...</td>\n",
              "      <td>1</td>\n",
              "    </tr>\n",
              "    <tr>\n",
              "      <th>2</th>\n",
              "      <td>christian bale pass role steve jobs actor repo...</td>\n",
              "      <td>137</td>\n",
              "      <td>unrelated</td>\n",
              "      <td>yearold moscow resident hospitalized wounds in...</td>\n",
              "      <td>0</td>\n",
              "    </tr>\n",
              "    <tr>\n",
              "      <th>3</th>\n",
              "      <td>hbo apple talks month apple tv streaming servi...</td>\n",
              "      <td>1034</td>\n",
              "      <td>unrelated</td>\n",
              "      <td>reuters canadian soldier shot canadian war mem...</td>\n",
              "      <td>0</td>\n",
              "    </tr>\n",
              "    <tr>\n",
              "      <th>4</th>\n",
              "      <td>spider burrow tourist stomach chest</td>\n",
              "      <td>1923</td>\n",
              "      <td>disagree</td>\n",
              "      <td>fear arachnophobes story bunburys spiderman mi...</td>\n",
              "      <td>1</td>\n",
              "    </tr>\n",
              "    <tr>\n",
              "      <th>...</th>\n",
              "      <td>...</td>\n",
              "      <td>...</td>\n",
              "      <td>...</td>\n",
              "      <td>...</td>\n",
              "      <td>...</td>\n",
              "    </tr>\n",
              "    <tr>\n",
              "      <th>49967</th>\n",
              "      <td>urgent leader isil abu bakr albaghdadi kill photo</td>\n",
              "      <td>1681</td>\n",
              "      <td>unrelated</td>\n",
              "      <td>cnn boko haram laughed nigerias announcement c...</td>\n",
              "      <td>0</td>\n",
              "    </tr>\n",
              "    <tr>\n",
              "      <th>49968</th>\n",
              "      <td>brian williams slams social media speculation ...</td>\n",
              "      <td>2419</td>\n",
              "      <td>unrelated</td>\n",
              "      <td>along unveiling apple watch earlier year compa...</td>\n",
              "      <td>0</td>\n",
              "    </tr>\n",
              "    <tr>\n",
              "      <th>49969</th>\n",
              "      <td>mexico say miss student find first mass grave</td>\n",
              "      <td>1156</td>\n",
              "      <td>agree</td>\n",
              "      <td>bodies found mass grave confirmed missing stud...</td>\n",
              "      <td>1</td>\n",
              "    </tr>\n",
              "    <tr>\n",
              "      <th>49970</th>\n",
              "      <td>us lawmaker ten isis fighter apprehend come ac...</td>\n",
              "      <td>1012</td>\n",
              "      <td>discuss</td>\n",
              "      <td>rep duncan hunter rca told greta van susteren ...</td>\n",
              "      <td>1</td>\n",
              "    </tr>\n",
              "    <tr>\n",
              "      <th>49971</th>\n",
              "      <td>shot hear allege brown shooting recording audio</td>\n",
              "      <td>2044</td>\n",
              "      <td>unrelated</td>\n",
              "      <td>married tv actor met young woman kissed sauna ...</td>\n",
              "      <td>0</td>\n",
              "    </tr>\n",
              "  </tbody>\n",
              "</table>\n",
              "<p>49972 rows × 5 columns</p>\n",
              "</div>\n",
              "      <button class=\"colab-df-convert\" onclick=\"convertToInteractive('df-5ba13c2a-33c8-4c97-906e-f002eb279569')\"\n",
              "              title=\"Convert this dataframe to an interactive table.\"\n",
              "              style=\"display:none;\">\n",
              "        \n",
              "  <svg xmlns=\"http://www.w3.org/2000/svg\" height=\"24px\"viewBox=\"0 0 24 24\"\n",
              "       width=\"24px\">\n",
              "    <path d=\"M0 0h24v24H0V0z\" fill=\"none\"/>\n",
              "    <path d=\"M18.56 5.44l.94 2.06.94-2.06 2.06-.94-2.06-.94-.94-2.06-.94 2.06-2.06.94zm-11 1L8.5 8.5l.94-2.06 2.06-.94-2.06-.94L8.5 2.5l-.94 2.06-2.06.94zm10 10l.94 2.06.94-2.06 2.06-.94-2.06-.94-.94-2.06-.94 2.06-2.06.94z\"/><path d=\"M17.41 7.96l-1.37-1.37c-.4-.4-.92-.59-1.43-.59-.52 0-1.04.2-1.43.59L10.3 9.45l-7.72 7.72c-.78.78-.78 2.05 0 2.83L4 21.41c.39.39.9.59 1.41.59.51 0 1.02-.2 1.41-.59l7.78-7.78 2.81-2.81c.8-.78.8-2.07 0-2.86zM5.41 20L4 18.59l7.72-7.72 1.47 1.35L5.41 20z\"/>\n",
              "  </svg>\n",
              "      </button>\n",
              "      \n",
              "  <style>\n",
              "    .colab-df-container {\n",
              "      display:flex;\n",
              "      flex-wrap:wrap;\n",
              "      gap: 12px;\n",
              "    }\n",
              "\n",
              "    .colab-df-convert {\n",
              "      background-color: #E8F0FE;\n",
              "      border: none;\n",
              "      border-radius: 50%;\n",
              "      cursor: pointer;\n",
              "      display: none;\n",
              "      fill: #1967D2;\n",
              "      height: 32px;\n",
              "      padding: 0 0 0 0;\n",
              "      width: 32px;\n",
              "    }\n",
              "\n",
              "    .colab-df-convert:hover {\n",
              "      background-color: #E2EBFA;\n",
              "      box-shadow: 0px 1px 2px rgba(60, 64, 67, 0.3), 0px 1px 3px 1px rgba(60, 64, 67, 0.15);\n",
              "      fill: #174EA6;\n",
              "    }\n",
              "\n",
              "    [theme=dark] .colab-df-convert {\n",
              "      background-color: #3B4455;\n",
              "      fill: #D2E3FC;\n",
              "    }\n",
              "\n",
              "    [theme=dark] .colab-df-convert:hover {\n",
              "      background-color: #434B5C;\n",
              "      box-shadow: 0px 1px 3px 1px rgba(0, 0, 0, 0.15);\n",
              "      filter: drop-shadow(0px 1px 2px rgba(0, 0, 0, 0.3));\n",
              "      fill: #FFFFFF;\n",
              "    }\n",
              "  </style>\n",
              "\n",
              "      <script>\n",
              "        const buttonEl =\n",
              "          document.querySelector('#df-5ba13c2a-33c8-4c97-906e-f002eb279569 button.colab-df-convert');\n",
              "        buttonEl.style.display =\n",
              "          google.colab.kernel.accessAllowed ? 'block' : 'none';\n",
              "\n",
              "        async function convertToInteractive(key) {\n",
              "          const element = document.querySelector('#df-5ba13c2a-33c8-4c97-906e-f002eb279569');\n",
              "          const dataTable =\n",
              "            await google.colab.kernel.invokeFunction('convertToInteractive',\n",
              "                                                     [key], {});\n",
              "          if (!dataTable) return;\n",
              "\n",
              "          const docLinkHtml = 'Like what you see? Visit the ' +\n",
              "            '<a target=\"_blank\" href=https://colab.research.google.com/notebooks/data_table.ipynb>data table notebook</a>'\n",
              "            + ' to learn more about interactive tables.';\n",
              "          element.innerHTML = '';\n",
              "          dataTable['output_type'] = 'display_data';\n",
              "          await google.colab.output.renderOutput(dataTable, element);\n",
              "          const docLink = document.createElement('div');\n",
              "          docLink.innerHTML = docLinkHtml;\n",
              "          element.appendChild(docLink);\n",
              "        }\n",
              "      </script>\n",
              "    </div>\n",
              "  </div>\n",
              "  "
            ]
          },
          "metadata": {},
          "execution_count": 5
        }
      ]
    },
    {
      "cell_type": "code",
      "execution_count": null,
      "metadata": {
        "colab": {
          "base_uri": "https://localhost:8080/"
        },
        "id": "7c3c66b0",
        "outputId": "4487a5d8-8ee9-4bf4-dcf8-d7ec37b8b901"
      },
      "outputs": [
        {
          "output_type": "stream",
          "name": "stderr",
          "text": [
            "/usr/local/lib/python3.7/dist-packages/ipykernel_launcher.py:3: FutureWarning: The default value of regex will change from True to False in a future version.\n",
            "  This is separate from the ipykernel package so we can avoid doing imports until\n",
            "/usr/local/lib/python3.7/dist-packages/ipykernel_launcher.py:4: FutureWarning: The default value of regex will change from True to False in a future version.\n",
            "  after removing the cwd from sys.path.\n",
            "/usr/local/lib/python3.7/dist-packages/ipykernel_launcher.py:7: FutureWarning: The default value of regex will change from True to False in a future version.\n",
            "  import sys\n",
            "/usr/local/lib/python3.7/dist-packages/ipykernel_launcher.py:8: FutureWarning: The default value of regex will change from True to False in a future version.\n",
            "  \n"
          ]
        }
      ],
      "source": [
        "#Remove punctuation\n",
        "\n",
        "train[\"Headline\"] = train['Headline'].str.replace('[^\\w\\s]','')\n",
        "test[\"Headline\"] = test['Headline'].str.replace('[^\\w\\s]','')\n",
        "\n",
        "\n",
        "train[\"articleBody\"] = train['articleBody'].str.replace('[^\\w\\s]','')\n",
        "test[\"articleBody\"] = test['articleBody'].str.replace('[^\\w\\s]','')"
      ],
      "id": "7c3c66b0"
    },
    {
      "cell_type": "code",
      "execution_count": null,
      "metadata": {
        "id": "cc063bbf"
      },
      "outputs": [],
      "source": [
        "#Convert text to lowercase\n",
        "\n",
        "train[\"Headline\"] = train[\"Headline\"].str.lower()\n",
        "test[\"Headline\"] = test[\"Headline\"].str.lower()\n",
        "\n",
        "train[\"articleBody\"] = train[\"articleBody\"].str.lower()\n",
        "test[\"articleBody\"] = test[\"articleBody\"].str.lower()"
      ],
      "id": "cc063bbf"
    },
    {
      "cell_type": "code",
      "execution_count": null,
      "metadata": {
        "id": "5027c882"
      },
      "outputs": [],
      "source": [
        "#Remove non-ASCII characters \n",
        "\n",
        "train[\"Headline\"].replace({r'[^\\x00-\\x7F]+':''}, regex=True, inplace=True)\n",
        "test[\"Headline\"].replace({r'[^\\x00-\\x7F]+':''}, regex=True, inplace=True)\n",
        "\n",
        "train[\"articleBody\"].replace({r'[^\\x00-\\x7F]+':''}, regex=True, inplace=True)\n",
        "test[\"articleBody\"].replace({r'[^\\x00-\\x7F]+':''}, regex=True, inplace=True)"
      ],
      "id": "5027c882"
    },
    {
      "cell_type": "code",
      "execution_count": null,
      "metadata": {
        "colab": {
          "base_uri": "https://localhost:8080/"
        },
        "id": "d35c9fef",
        "outputId": "1c206195-ba15-49c5-8266-fe9c09d073ef"
      },
      "outputs": [
        {
          "output_type": "stream",
          "name": "stderr",
          "text": [
            "/usr/local/lib/python3.7/dist-packages/ipykernel_launcher.py:3: FutureWarning: The default value of regex will change from True to False in a future version.\n",
            "  This is separate from the ipykernel package so we can avoid doing imports until\n",
            "/usr/local/lib/python3.7/dist-packages/ipykernel_launcher.py:4: FutureWarning: The default value of regex will change from True to False in a future version.\n",
            "  after removing the cwd from sys.path.\n",
            "/usr/local/lib/python3.7/dist-packages/ipykernel_launcher.py:5: FutureWarning: The default value of regex will change from True to False in a future version.\n",
            "  \"\"\"\n",
            "/usr/local/lib/python3.7/dist-packages/ipykernel_launcher.py:6: FutureWarning: The default value of regex will change from True to False in a future version.\n",
            "  \n"
          ]
        }
      ],
      "source": [
        "# Remove numbers\n",
        "\n",
        "train[\"Headline\"] = train[\"Headline\"].str.replace('\\d+', '')\n",
        "test[\"Headline\"] = test[\"Headline\"].str.replace('\\d+', '')\n",
        "train[\"articleBody\"] = train[\"articleBody\"].str.replace('\\d+', '')\n",
        "test[\"articleBody\"] = test[\"articleBody\"].str.replace('\\d+', '')"
      ],
      "id": "d35c9fef"
    },
    {
      "cell_type": "code",
      "execution_count": null,
      "metadata": {
        "colab": {
          "base_uri": "https://localhost:8080/"
        },
        "id": "ilQOt7PJKRjN",
        "outputId": "709bcb4e-e84e-4724-e49c-9a46dfe1d985"
      },
      "outputs": [
        {
          "output_type": "stream",
          "name": "stdout",
          "text": [
            "[nltk_data] Downloading package stopwords to /root/nltk_data...\n",
            "[nltk_data]   Package stopwords is already up-to-date!\n"
          ]
        },
        {
          "output_type": "execute_result",
          "data": {
            "text/plain": [
              "True"
            ]
          },
          "metadata": {},
          "execution_count": 11
        }
      ],
      "source": [
        "import nltk\n",
        "nltk.download('stopwords')"
      ],
      "id": "ilQOt7PJKRjN"
    },
    {
      "cell_type": "code",
      "execution_count": null,
      "metadata": {
        "id": "734c70fa"
      },
      "outputs": [],
      "source": [
        "#Remove stop words\n",
        "from nltk.corpus import stopwords\n",
        "stop = stopwords.words('english')"
      ],
      "id": "734c70fa"
    },
    {
      "cell_type": "code",
      "execution_count": null,
      "metadata": {
        "id": "2457ac13"
      },
      "outputs": [],
      "source": [
        "train[\"Headline\"] = train[\"Headline\"] .apply(lambda x: ' '.join([word for word in x.split() if word not in (stop)]))\n",
        "test[\"Headline\"] = test[\"Headline\"] .apply(lambda x: ' '.join([word for word in x.split() if word not in (stop)]))\n",
        "\n",
        "train[\"articleBody\"] = train[\"articleBody\"] .apply(lambda x: ' '.join([word for word in x.split() if word not in (stop)]))\n",
        "test[\"articleBody\"] = test[\"articleBody\"] .apply(lambda x: ' '.join([word for word in x.split() if word not in (stop)]))"
      ],
      "id": "2457ac13"
    },
    {
      "cell_type": "code",
      "execution_count": null,
      "metadata": {
        "id": "627ae708"
      },
      "outputs": [],
      "source": [
        "#Lemmatize using spacy\n",
        "\n",
        "import spacy\n",
        "en_core = spacy.load('en_core_web_sm')"
      ],
      "id": "627ae708"
    },
    {
      "cell_type": "code",
      "execution_count": null,
      "metadata": {
        "id": "6161931e"
      },
      "outputs": [],
      "source": [
        "train[\"Headline\"] = train[\"Headline\"].apply(lambda x: \" \".join([y.lemma_ for y in en_core(x)]))\n"
      ],
      "id": "6161931e"
    },
    {
      "cell_type": "code",
      "execution_count": null,
      "metadata": {
        "id": "a4c4be0d"
      },
      "outputs": [],
      "source": [
        "test_stances[\"Headline\"] = test_stances[\"Headline\"].apply(lambda x: \" \".join([y.lemma_ for y in en_core(x)]))\n"
      ],
      "id": "a4c4be0d"
    },
    {
      "cell_type": "code",
      "execution_count": null,
      "metadata": {
        "colab": {
          "base_uri": "https://localhost:8080/",
          "height": 419
        },
        "id": "18bf1a69",
        "outputId": "4030a53a-3520-436b-8264-9c8467f8a413"
      },
      "outputs": [
        {
          "output_type": "execute_result",
          "data": {
            "text/plain": [
              "                                                Headline  Body ID     Stance  \\\n",
              "0      police find mass grave least body near mexico ...      712  unrelated   \n",
              "1      hundred palestinians flee flood gaza israel op...      158      agree   \n",
              "2      christian bale pass role steve jobs actor repo...      137  unrelated   \n",
              "3      hbo apple talks month apple tv streaming servi...     1034  unrelated   \n",
              "4                    spider burrow tourist stomach chest     1923   disagree   \n",
              "...                                                  ...      ...        ...   \n",
              "49967  urgent leader isil abu bakr albaghdadi kill photo     1681  unrelated   \n",
              "49968  brian williams slams social media speculation ...     2419  unrelated   \n",
              "49969      mexico say miss student find first mass grave     1156      agree   \n",
              "49970  us lawmaker ten isis fighter apprehend come ac...     1012    discuss   \n",
              "49971    shot hear allege brown shooting recording audio     2044  unrelated   \n",
              "\n",
              "                                             articleBody  \n",
              "0      danny boyle directing untitled film seth rogen...  \n",
              "1      hundreds palestinians evacuated homes sunday m...  \n",
              "2      yearold moscow resident hospitalized wounds in...  \n",
              "3      reuters canadian soldier shot canadian war mem...  \n",
              "4      fear arachnophobes story bunburys spiderman mi...  \n",
              "...                                                  ...  \n",
              "49967  cnn boko haram laughed nigerias announcement c...  \n",
              "49968  along unveiling apple watch earlier year compa...  \n",
              "49969  bodies found mass grave confirmed missing stud...  \n",
              "49970  rep duncan hunter rca told greta van susteren ...  \n",
              "49971  married tv actor met young woman kissed sauna ...  \n",
              "\n",
              "[49972 rows x 4 columns]"
            ],
            "text/html": [
              "\n",
              "  <div id=\"df-a6b1b6e1-edca-4dfb-82e3-41feb9382566\">\n",
              "    <div class=\"colab-df-container\">\n",
              "      <div>\n",
              "<style scoped>\n",
              "    .dataframe tbody tr th:only-of-type {\n",
              "        vertical-align: middle;\n",
              "    }\n",
              "\n",
              "    .dataframe tbody tr th {\n",
              "        vertical-align: top;\n",
              "    }\n",
              "\n",
              "    .dataframe thead th {\n",
              "        text-align: right;\n",
              "    }\n",
              "</style>\n",
              "<table border=\"1\" class=\"dataframe\">\n",
              "  <thead>\n",
              "    <tr style=\"text-align: right;\">\n",
              "      <th></th>\n",
              "      <th>Headline</th>\n",
              "      <th>Body ID</th>\n",
              "      <th>Stance</th>\n",
              "      <th>articleBody</th>\n",
              "    </tr>\n",
              "  </thead>\n",
              "  <tbody>\n",
              "    <tr>\n",
              "      <th>0</th>\n",
              "      <td>police find mass grave least body near mexico ...</td>\n",
              "      <td>712</td>\n",
              "      <td>unrelated</td>\n",
              "      <td>danny boyle directing untitled film seth rogen...</td>\n",
              "    </tr>\n",
              "    <tr>\n",
              "      <th>1</th>\n",
              "      <td>hundred palestinians flee flood gaza israel op...</td>\n",
              "      <td>158</td>\n",
              "      <td>agree</td>\n",
              "      <td>hundreds palestinians evacuated homes sunday m...</td>\n",
              "    </tr>\n",
              "    <tr>\n",
              "      <th>2</th>\n",
              "      <td>christian bale pass role steve jobs actor repo...</td>\n",
              "      <td>137</td>\n",
              "      <td>unrelated</td>\n",
              "      <td>yearold moscow resident hospitalized wounds in...</td>\n",
              "    </tr>\n",
              "    <tr>\n",
              "      <th>3</th>\n",
              "      <td>hbo apple talks month apple tv streaming servi...</td>\n",
              "      <td>1034</td>\n",
              "      <td>unrelated</td>\n",
              "      <td>reuters canadian soldier shot canadian war mem...</td>\n",
              "    </tr>\n",
              "    <tr>\n",
              "      <th>4</th>\n",
              "      <td>spider burrow tourist stomach chest</td>\n",
              "      <td>1923</td>\n",
              "      <td>disagree</td>\n",
              "      <td>fear arachnophobes story bunburys spiderman mi...</td>\n",
              "    </tr>\n",
              "    <tr>\n",
              "      <th>...</th>\n",
              "      <td>...</td>\n",
              "      <td>...</td>\n",
              "      <td>...</td>\n",
              "      <td>...</td>\n",
              "    </tr>\n",
              "    <tr>\n",
              "      <th>49967</th>\n",
              "      <td>urgent leader isil abu bakr albaghdadi kill photo</td>\n",
              "      <td>1681</td>\n",
              "      <td>unrelated</td>\n",
              "      <td>cnn boko haram laughed nigerias announcement c...</td>\n",
              "    </tr>\n",
              "    <tr>\n",
              "      <th>49968</th>\n",
              "      <td>brian williams slams social media speculation ...</td>\n",
              "      <td>2419</td>\n",
              "      <td>unrelated</td>\n",
              "      <td>along unveiling apple watch earlier year compa...</td>\n",
              "    </tr>\n",
              "    <tr>\n",
              "      <th>49969</th>\n",
              "      <td>mexico say miss student find first mass grave</td>\n",
              "      <td>1156</td>\n",
              "      <td>agree</td>\n",
              "      <td>bodies found mass grave confirmed missing stud...</td>\n",
              "    </tr>\n",
              "    <tr>\n",
              "      <th>49970</th>\n",
              "      <td>us lawmaker ten isis fighter apprehend come ac...</td>\n",
              "      <td>1012</td>\n",
              "      <td>discuss</td>\n",
              "      <td>rep duncan hunter rca told greta van susteren ...</td>\n",
              "    </tr>\n",
              "    <tr>\n",
              "      <th>49971</th>\n",
              "      <td>shot hear allege brown shooting recording audio</td>\n",
              "      <td>2044</td>\n",
              "      <td>unrelated</td>\n",
              "      <td>married tv actor met young woman kissed sauna ...</td>\n",
              "    </tr>\n",
              "  </tbody>\n",
              "</table>\n",
              "<p>49972 rows × 4 columns</p>\n",
              "</div>\n",
              "      <button class=\"colab-df-convert\" onclick=\"convertToInteractive('df-a6b1b6e1-edca-4dfb-82e3-41feb9382566')\"\n",
              "              title=\"Convert this dataframe to an interactive table.\"\n",
              "              style=\"display:none;\">\n",
              "        \n",
              "  <svg xmlns=\"http://www.w3.org/2000/svg\" height=\"24px\"viewBox=\"0 0 24 24\"\n",
              "       width=\"24px\">\n",
              "    <path d=\"M0 0h24v24H0V0z\" fill=\"none\"/>\n",
              "    <path d=\"M18.56 5.44l.94 2.06.94-2.06 2.06-.94-2.06-.94-.94-2.06-.94 2.06-2.06.94zm-11 1L8.5 8.5l.94-2.06 2.06-.94-2.06-.94L8.5 2.5l-.94 2.06-2.06.94zm10 10l.94 2.06.94-2.06 2.06-.94-2.06-.94-.94-2.06-.94 2.06-2.06.94z\"/><path d=\"M17.41 7.96l-1.37-1.37c-.4-.4-.92-.59-1.43-.59-.52 0-1.04.2-1.43.59L10.3 9.45l-7.72 7.72c-.78.78-.78 2.05 0 2.83L4 21.41c.39.39.9.59 1.41.59.51 0 1.02-.2 1.41-.59l7.78-7.78 2.81-2.81c.8-.78.8-2.07 0-2.86zM5.41 20L4 18.59l7.72-7.72 1.47 1.35L5.41 20z\"/>\n",
              "  </svg>\n",
              "      </button>\n",
              "      \n",
              "  <style>\n",
              "    .colab-df-container {\n",
              "      display:flex;\n",
              "      flex-wrap:wrap;\n",
              "      gap: 12px;\n",
              "    }\n",
              "\n",
              "    .colab-df-convert {\n",
              "      background-color: #E8F0FE;\n",
              "      border: none;\n",
              "      border-radius: 50%;\n",
              "      cursor: pointer;\n",
              "      display: none;\n",
              "      fill: #1967D2;\n",
              "      height: 32px;\n",
              "      padding: 0 0 0 0;\n",
              "      width: 32px;\n",
              "    }\n",
              "\n",
              "    .colab-df-convert:hover {\n",
              "      background-color: #E2EBFA;\n",
              "      box-shadow: 0px 1px 2px rgba(60, 64, 67, 0.3), 0px 1px 3px 1px rgba(60, 64, 67, 0.15);\n",
              "      fill: #174EA6;\n",
              "    }\n",
              "\n",
              "    [theme=dark] .colab-df-convert {\n",
              "      background-color: #3B4455;\n",
              "      fill: #D2E3FC;\n",
              "    }\n",
              "\n",
              "    [theme=dark] .colab-df-convert:hover {\n",
              "      background-color: #434B5C;\n",
              "      box-shadow: 0px 1px 3px 1px rgba(0, 0, 0, 0.15);\n",
              "      filter: drop-shadow(0px 1px 2px rgba(0, 0, 0, 0.3));\n",
              "      fill: #FFFFFF;\n",
              "    }\n",
              "  </style>\n",
              "\n",
              "      <script>\n",
              "        const buttonEl =\n",
              "          document.querySelector('#df-a6b1b6e1-edca-4dfb-82e3-41feb9382566 button.colab-df-convert');\n",
              "        buttonEl.style.display =\n",
              "          google.colab.kernel.accessAllowed ? 'block' : 'none';\n",
              "\n",
              "        async function convertToInteractive(key) {\n",
              "          const element = document.querySelector('#df-a6b1b6e1-edca-4dfb-82e3-41feb9382566');\n",
              "          const dataTable =\n",
              "            await google.colab.kernel.invokeFunction('convertToInteractive',\n",
              "                                                     [key], {});\n",
              "          if (!dataTable) return;\n",
              "\n",
              "          const docLinkHtml = 'Like what you see? Visit the ' +\n",
              "            '<a target=\"_blank\" href=https://colab.research.google.com/notebooks/data_table.ipynb>data table notebook</a>'\n",
              "            + ' to learn more about interactive tables.';\n",
              "          element.innerHTML = '';\n",
              "          dataTable['output_type'] = 'display_data';\n",
              "          await google.colab.output.renderOutput(dataTable, element);\n",
              "          const docLink = document.createElement('div');\n",
              "          docLink.innerHTML = docLinkHtml;\n",
              "          element.appendChild(docLink);\n",
              "        }\n",
              "      </script>\n",
              "    </div>\n",
              "  </div>\n",
              "  "
            ]
          },
          "metadata": {},
          "execution_count": 17
        }
      ],
      "source": [
        "train"
      ],
      "id": "18bf1a69"
    },
    {
      "cell_type": "code",
      "execution_count": null,
      "metadata": {
        "colab": {
          "base_uri": "https://localhost:8080/"
        },
        "id": "5Ar6gDpONpH7",
        "outputId": "b14622e3-d0af-4ec1-90fa-0561327f5b62"
      },
      "outputs": [
        {
          "output_type": "execute_result",
          "data": {
            "text/plain": [
              "unrelated    36545\n",
              "discuss       8909\n",
              "agree         3678\n",
              "disagree       840\n",
              "Name: Stance, dtype: int64"
            ]
          },
          "metadata": {},
          "execution_count": 18
        }
      ],
      "source": [
        "train['Stance'].value_counts()"
      ],
      "id": "5Ar6gDpONpH7"
    },
    {
      "cell_type": "code",
      "execution_count": null,
      "metadata": {
        "id": "6tjODlZBBaKT",
        "colab": {
          "base_uri": "https://localhost:8080/"
        },
        "outputId": "95ddfec6-2b56-4a69-d3b9-47862e618415"
      },
      "outputs": [
        {
          "output_type": "execute_result",
          "data": {
            "text/plain": [
              "unrelated    18349\n",
              "discuss       4464\n",
              "agree         1903\n",
              "disagree       697\n",
              "Name: Stance, dtype: int64"
            ]
          },
          "metadata": {},
          "execution_count": 19
        }
      ],
      "source": [
        "test['Stance'].value_counts()"
      ],
      "id": "6tjODlZBBaKT"
    },
    {
      "cell_type": "code",
      "source": [
        "train"
      ],
      "metadata": {
        "colab": {
          "base_uri": "https://localhost:8080/",
          "height": 419
        },
        "id": "jnZ2WXBYqbV7",
        "outputId": "87336505-d23e-443d-f2dc-0a414b24009b"
      },
      "id": "jnZ2WXBYqbV7",
      "execution_count": null,
      "outputs": [
        {
          "output_type": "execute_result",
          "data": {
            "text/plain": [
              "                                                Headline  Body ID     Stance  \\\n",
              "0      police find mass grave least body near mexico ...      712  unrelated   \n",
              "1      hundred palestinians flee flood gaza israel op...      158      agree   \n",
              "2      christian bale pass role steve jobs actor repo...      137  unrelated   \n",
              "3      hbo apple talks month apple tv streaming servi...     1034  unrelated   \n",
              "4                    spider burrow tourist stomach chest     1923   disagree   \n",
              "...                                                  ...      ...        ...   \n",
              "49967  urgent leader isil abu bakr albaghdadi kill photo     1681  unrelated   \n",
              "49968  brian williams slams social media speculation ...     2419  unrelated   \n",
              "49969      mexico say miss student find first mass grave     1156      agree   \n",
              "49970  us lawmaker ten isis fighter apprehend come ac...     1012    discuss   \n",
              "49971    shot hear allege brown shooting recording audio     2044  unrelated   \n",
              "\n",
              "                                             articleBody  \n",
              "0      danny boyle directing untitled film seth rogen...  \n",
              "1      hundreds palestinians evacuated homes sunday m...  \n",
              "2      yearold moscow resident hospitalized wounds in...  \n",
              "3      reuters canadian soldier shot canadian war mem...  \n",
              "4      fear arachnophobes story bunburys spiderman mi...  \n",
              "...                                                  ...  \n",
              "49967  cnn boko haram laughed nigerias announcement c...  \n",
              "49968  along unveiling apple watch earlier year compa...  \n",
              "49969  bodies found mass grave confirmed missing stud...  \n",
              "49970  rep duncan hunter rca told greta van susteren ...  \n",
              "49971  married tv actor met young woman kissed sauna ...  \n",
              "\n",
              "[49972 rows x 4 columns]"
            ],
            "text/html": [
              "\n",
              "  <div id=\"df-3f7a2584-6130-4c8a-befa-1bc6ca3e1043\">\n",
              "    <div class=\"colab-df-container\">\n",
              "      <div>\n",
              "<style scoped>\n",
              "    .dataframe tbody tr th:only-of-type {\n",
              "        vertical-align: middle;\n",
              "    }\n",
              "\n",
              "    .dataframe tbody tr th {\n",
              "        vertical-align: top;\n",
              "    }\n",
              "\n",
              "    .dataframe thead th {\n",
              "        text-align: right;\n",
              "    }\n",
              "</style>\n",
              "<table border=\"1\" class=\"dataframe\">\n",
              "  <thead>\n",
              "    <tr style=\"text-align: right;\">\n",
              "      <th></th>\n",
              "      <th>Headline</th>\n",
              "      <th>Body ID</th>\n",
              "      <th>Stance</th>\n",
              "      <th>articleBody</th>\n",
              "    </tr>\n",
              "  </thead>\n",
              "  <tbody>\n",
              "    <tr>\n",
              "      <th>0</th>\n",
              "      <td>police find mass grave least body near mexico ...</td>\n",
              "      <td>712</td>\n",
              "      <td>unrelated</td>\n",
              "      <td>danny boyle directing untitled film seth rogen...</td>\n",
              "    </tr>\n",
              "    <tr>\n",
              "      <th>1</th>\n",
              "      <td>hundred palestinians flee flood gaza israel op...</td>\n",
              "      <td>158</td>\n",
              "      <td>agree</td>\n",
              "      <td>hundreds palestinians evacuated homes sunday m...</td>\n",
              "    </tr>\n",
              "    <tr>\n",
              "      <th>2</th>\n",
              "      <td>christian bale pass role steve jobs actor repo...</td>\n",
              "      <td>137</td>\n",
              "      <td>unrelated</td>\n",
              "      <td>yearold moscow resident hospitalized wounds in...</td>\n",
              "    </tr>\n",
              "    <tr>\n",
              "      <th>3</th>\n",
              "      <td>hbo apple talks month apple tv streaming servi...</td>\n",
              "      <td>1034</td>\n",
              "      <td>unrelated</td>\n",
              "      <td>reuters canadian soldier shot canadian war mem...</td>\n",
              "    </tr>\n",
              "    <tr>\n",
              "      <th>4</th>\n",
              "      <td>spider burrow tourist stomach chest</td>\n",
              "      <td>1923</td>\n",
              "      <td>disagree</td>\n",
              "      <td>fear arachnophobes story bunburys spiderman mi...</td>\n",
              "    </tr>\n",
              "    <tr>\n",
              "      <th>...</th>\n",
              "      <td>...</td>\n",
              "      <td>...</td>\n",
              "      <td>...</td>\n",
              "      <td>...</td>\n",
              "    </tr>\n",
              "    <tr>\n",
              "      <th>49967</th>\n",
              "      <td>urgent leader isil abu bakr albaghdadi kill photo</td>\n",
              "      <td>1681</td>\n",
              "      <td>unrelated</td>\n",
              "      <td>cnn boko haram laughed nigerias announcement c...</td>\n",
              "    </tr>\n",
              "    <tr>\n",
              "      <th>49968</th>\n",
              "      <td>brian williams slams social media speculation ...</td>\n",
              "      <td>2419</td>\n",
              "      <td>unrelated</td>\n",
              "      <td>along unveiling apple watch earlier year compa...</td>\n",
              "    </tr>\n",
              "    <tr>\n",
              "      <th>49969</th>\n",
              "      <td>mexico say miss student find first mass grave</td>\n",
              "      <td>1156</td>\n",
              "      <td>agree</td>\n",
              "      <td>bodies found mass grave confirmed missing stud...</td>\n",
              "    </tr>\n",
              "    <tr>\n",
              "      <th>49970</th>\n",
              "      <td>us lawmaker ten isis fighter apprehend come ac...</td>\n",
              "      <td>1012</td>\n",
              "      <td>discuss</td>\n",
              "      <td>rep duncan hunter rca told greta van susteren ...</td>\n",
              "    </tr>\n",
              "    <tr>\n",
              "      <th>49971</th>\n",
              "      <td>shot hear allege brown shooting recording audio</td>\n",
              "      <td>2044</td>\n",
              "      <td>unrelated</td>\n",
              "      <td>married tv actor met young woman kissed sauna ...</td>\n",
              "    </tr>\n",
              "  </tbody>\n",
              "</table>\n",
              "<p>49972 rows × 4 columns</p>\n",
              "</div>\n",
              "      <button class=\"colab-df-convert\" onclick=\"convertToInteractive('df-3f7a2584-6130-4c8a-befa-1bc6ca3e1043')\"\n",
              "              title=\"Convert this dataframe to an interactive table.\"\n",
              "              style=\"display:none;\">\n",
              "        \n",
              "  <svg xmlns=\"http://www.w3.org/2000/svg\" height=\"24px\"viewBox=\"0 0 24 24\"\n",
              "       width=\"24px\">\n",
              "    <path d=\"M0 0h24v24H0V0z\" fill=\"none\"/>\n",
              "    <path d=\"M18.56 5.44l.94 2.06.94-2.06 2.06-.94-2.06-.94-.94-2.06-.94 2.06-2.06.94zm-11 1L8.5 8.5l.94-2.06 2.06-.94-2.06-.94L8.5 2.5l-.94 2.06-2.06.94zm10 10l.94 2.06.94-2.06 2.06-.94-2.06-.94-.94-2.06-.94 2.06-2.06.94z\"/><path d=\"M17.41 7.96l-1.37-1.37c-.4-.4-.92-.59-1.43-.59-.52 0-1.04.2-1.43.59L10.3 9.45l-7.72 7.72c-.78.78-.78 2.05 0 2.83L4 21.41c.39.39.9.59 1.41.59.51 0 1.02-.2 1.41-.59l7.78-7.78 2.81-2.81c.8-.78.8-2.07 0-2.86zM5.41 20L4 18.59l7.72-7.72 1.47 1.35L5.41 20z\"/>\n",
              "  </svg>\n",
              "      </button>\n",
              "      \n",
              "  <style>\n",
              "    .colab-df-container {\n",
              "      display:flex;\n",
              "      flex-wrap:wrap;\n",
              "      gap: 12px;\n",
              "    }\n",
              "\n",
              "    .colab-df-convert {\n",
              "      background-color: #E8F0FE;\n",
              "      border: none;\n",
              "      border-radius: 50%;\n",
              "      cursor: pointer;\n",
              "      display: none;\n",
              "      fill: #1967D2;\n",
              "      height: 32px;\n",
              "      padding: 0 0 0 0;\n",
              "      width: 32px;\n",
              "    }\n",
              "\n",
              "    .colab-df-convert:hover {\n",
              "      background-color: #E2EBFA;\n",
              "      box-shadow: 0px 1px 2px rgba(60, 64, 67, 0.3), 0px 1px 3px 1px rgba(60, 64, 67, 0.15);\n",
              "      fill: #174EA6;\n",
              "    }\n",
              "\n",
              "    [theme=dark] .colab-df-convert {\n",
              "      background-color: #3B4455;\n",
              "      fill: #D2E3FC;\n",
              "    }\n",
              "\n",
              "    [theme=dark] .colab-df-convert:hover {\n",
              "      background-color: #434B5C;\n",
              "      box-shadow: 0px 1px 3px 1px rgba(0, 0, 0, 0.15);\n",
              "      filter: drop-shadow(0px 1px 2px rgba(0, 0, 0, 0.3));\n",
              "      fill: #FFFFFF;\n",
              "    }\n",
              "  </style>\n",
              "\n",
              "      <script>\n",
              "        const buttonEl =\n",
              "          document.querySelector('#df-3f7a2584-6130-4c8a-befa-1bc6ca3e1043 button.colab-df-convert');\n",
              "        buttonEl.style.display =\n",
              "          google.colab.kernel.accessAllowed ? 'block' : 'none';\n",
              "\n",
              "        async function convertToInteractive(key) {\n",
              "          const element = document.querySelector('#df-3f7a2584-6130-4c8a-befa-1bc6ca3e1043');\n",
              "          const dataTable =\n",
              "            await google.colab.kernel.invokeFunction('convertToInteractive',\n",
              "                                                     [key], {});\n",
              "          if (!dataTable) return;\n",
              "\n",
              "          const docLinkHtml = 'Like what you see? Visit the ' +\n",
              "            '<a target=\"_blank\" href=https://colab.research.google.com/notebooks/data_table.ipynb>data table notebook</a>'\n",
              "            + ' to learn more about interactive tables.';\n",
              "          element.innerHTML = '';\n",
              "          dataTable['output_type'] = 'display_data';\n",
              "          await google.colab.output.renderOutput(dataTable, element);\n",
              "          const docLink = document.createElement('div');\n",
              "          docLink.innerHTML = docLinkHtml;\n",
              "          element.appendChild(docLink);\n",
              "        }\n",
              "      </script>\n",
              "    </div>\n",
              "  </div>\n",
              "  "
            ]
          },
          "metadata": {},
          "execution_count": 20
        }
      ]
    },
    {
      "cell_type": "code",
      "execution_count": null,
      "metadata": {
        "id": "P51id3HkB2rh"
      },
      "outputs": [],
      "source": [
        "train['isRelated'] = 1\n",
        "test['isRelated'] = 1"
      ],
      "id": "P51id3HkB2rh"
    },
    {
      "cell_type": "code",
      "source": [
        "train.loc[train.Stance == 'unrelated', 'isRelated'] = 0"
      ],
      "metadata": {
        "id": "qZldeLt3qY-c"
      },
      "id": "qZldeLt3qY-c",
      "execution_count": null,
      "outputs": []
    },
    {
      "cell_type": "code",
      "source": [
        "test.loc[test.Stance == 'unrelated', 'isRelated'] = 0"
      ],
      "metadata": {
        "id": "frCadlueqrOi"
      },
      "id": "frCadlueqrOi",
      "execution_count": null,
      "outputs": []
    },
    {
      "cell_type": "code",
      "source": [
        "train"
      ],
      "metadata": {
        "colab": {
          "base_uri": "https://localhost:8080/",
          "height": 419
        },
        "id": "Yq7t60oHrBPV",
        "outputId": "13b6b12a-d9ca-4dcc-b556-0ab4911fc722"
      },
      "id": "Yq7t60oHrBPV",
      "execution_count": null,
      "outputs": [
        {
          "output_type": "execute_result",
          "data": {
            "text/plain": [
              "                                                Headline  Body ID     Stance  \\\n",
              "0      police find mass grave least body near mexico ...      712  unrelated   \n",
              "1      hundred palestinians flee flood gaza israel op...      158      agree   \n",
              "2      christian bale pass role steve jobs actor repo...      137  unrelated   \n",
              "3      hbo apple talks month apple tv streaming servi...     1034  unrelated   \n",
              "4                    spider burrow tourist stomach chest     1923   disagree   \n",
              "...                                                  ...      ...        ...   \n",
              "49967  urgent leader isil abu bakr albaghdadi kill photo     1681  unrelated   \n",
              "49968  brian williams slams social media speculation ...     2419  unrelated   \n",
              "49969      mexico say miss student find first mass grave     1156      agree   \n",
              "49970  us lawmaker ten isis fighter apprehend come ac...     1012    discuss   \n",
              "49971    shot hear allege brown shooting recording audio     2044  unrelated   \n",
              "\n",
              "                                             articleBody  isRelated  \n",
              "0      danny boyle directing untitled film seth rogen...          0  \n",
              "1      hundreds palestinians evacuated homes sunday m...          1  \n",
              "2      yearold moscow resident hospitalized wounds in...          0  \n",
              "3      reuters canadian soldier shot canadian war mem...          0  \n",
              "4      fear arachnophobes story bunburys spiderman mi...          1  \n",
              "...                                                  ...        ...  \n",
              "49967  cnn boko haram laughed nigerias announcement c...          0  \n",
              "49968  along unveiling apple watch earlier year compa...          0  \n",
              "49969  bodies found mass grave confirmed missing stud...          1  \n",
              "49970  rep duncan hunter rca told greta van susteren ...          1  \n",
              "49971  married tv actor met young woman kissed sauna ...          0  \n",
              "\n",
              "[49972 rows x 5 columns]"
            ],
            "text/html": [
              "\n",
              "  <div id=\"df-b8134b8f-9f1b-4dac-aed1-d38e9f7b6eb1\">\n",
              "    <div class=\"colab-df-container\">\n",
              "      <div>\n",
              "<style scoped>\n",
              "    .dataframe tbody tr th:only-of-type {\n",
              "        vertical-align: middle;\n",
              "    }\n",
              "\n",
              "    .dataframe tbody tr th {\n",
              "        vertical-align: top;\n",
              "    }\n",
              "\n",
              "    .dataframe thead th {\n",
              "        text-align: right;\n",
              "    }\n",
              "</style>\n",
              "<table border=\"1\" class=\"dataframe\">\n",
              "  <thead>\n",
              "    <tr style=\"text-align: right;\">\n",
              "      <th></th>\n",
              "      <th>Headline</th>\n",
              "      <th>Body ID</th>\n",
              "      <th>Stance</th>\n",
              "      <th>articleBody</th>\n",
              "      <th>isRelated</th>\n",
              "    </tr>\n",
              "  </thead>\n",
              "  <tbody>\n",
              "    <tr>\n",
              "      <th>0</th>\n",
              "      <td>police find mass grave least body near mexico ...</td>\n",
              "      <td>712</td>\n",
              "      <td>unrelated</td>\n",
              "      <td>danny boyle directing untitled film seth rogen...</td>\n",
              "      <td>0</td>\n",
              "    </tr>\n",
              "    <tr>\n",
              "      <th>1</th>\n",
              "      <td>hundred palestinians flee flood gaza israel op...</td>\n",
              "      <td>158</td>\n",
              "      <td>agree</td>\n",
              "      <td>hundreds palestinians evacuated homes sunday m...</td>\n",
              "      <td>1</td>\n",
              "    </tr>\n",
              "    <tr>\n",
              "      <th>2</th>\n",
              "      <td>christian bale pass role steve jobs actor repo...</td>\n",
              "      <td>137</td>\n",
              "      <td>unrelated</td>\n",
              "      <td>yearold moscow resident hospitalized wounds in...</td>\n",
              "      <td>0</td>\n",
              "    </tr>\n",
              "    <tr>\n",
              "      <th>3</th>\n",
              "      <td>hbo apple talks month apple tv streaming servi...</td>\n",
              "      <td>1034</td>\n",
              "      <td>unrelated</td>\n",
              "      <td>reuters canadian soldier shot canadian war mem...</td>\n",
              "      <td>0</td>\n",
              "    </tr>\n",
              "    <tr>\n",
              "      <th>4</th>\n",
              "      <td>spider burrow tourist stomach chest</td>\n",
              "      <td>1923</td>\n",
              "      <td>disagree</td>\n",
              "      <td>fear arachnophobes story bunburys spiderman mi...</td>\n",
              "      <td>1</td>\n",
              "    </tr>\n",
              "    <tr>\n",
              "      <th>...</th>\n",
              "      <td>...</td>\n",
              "      <td>...</td>\n",
              "      <td>...</td>\n",
              "      <td>...</td>\n",
              "      <td>...</td>\n",
              "    </tr>\n",
              "    <tr>\n",
              "      <th>49967</th>\n",
              "      <td>urgent leader isil abu bakr albaghdadi kill photo</td>\n",
              "      <td>1681</td>\n",
              "      <td>unrelated</td>\n",
              "      <td>cnn boko haram laughed nigerias announcement c...</td>\n",
              "      <td>0</td>\n",
              "    </tr>\n",
              "    <tr>\n",
              "      <th>49968</th>\n",
              "      <td>brian williams slams social media speculation ...</td>\n",
              "      <td>2419</td>\n",
              "      <td>unrelated</td>\n",
              "      <td>along unveiling apple watch earlier year compa...</td>\n",
              "      <td>0</td>\n",
              "    </tr>\n",
              "    <tr>\n",
              "      <th>49969</th>\n",
              "      <td>mexico say miss student find first mass grave</td>\n",
              "      <td>1156</td>\n",
              "      <td>agree</td>\n",
              "      <td>bodies found mass grave confirmed missing stud...</td>\n",
              "      <td>1</td>\n",
              "    </tr>\n",
              "    <tr>\n",
              "      <th>49970</th>\n",
              "      <td>us lawmaker ten isis fighter apprehend come ac...</td>\n",
              "      <td>1012</td>\n",
              "      <td>discuss</td>\n",
              "      <td>rep duncan hunter rca told greta van susteren ...</td>\n",
              "      <td>1</td>\n",
              "    </tr>\n",
              "    <tr>\n",
              "      <th>49971</th>\n",
              "      <td>shot hear allege brown shooting recording audio</td>\n",
              "      <td>2044</td>\n",
              "      <td>unrelated</td>\n",
              "      <td>married tv actor met young woman kissed sauna ...</td>\n",
              "      <td>0</td>\n",
              "    </tr>\n",
              "  </tbody>\n",
              "</table>\n",
              "<p>49972 rows × 5 columns</p>\n",
              "</div>\n",
              "      <button class=\"colab-df-convert\" onclick=\"convertToInteractive('df-b8134b8f-9f1b-4dac-aed1-d38e9f7b6eb1')\"\n",
              "              title=\"Convert this dataframe to an interactive table.\"\n",
              "              style=\"display:none;\">\n",
              "        \n",
              "  <svg xmlns=\"http://www.w3.org/2000/svg\" height=\"24px\"viewBox=\"0 0 24 24\"\n",
              "       width=\"24px\">\n",
              "    <path d=\"M0 0h24v24H0V0z\" fill=\"none\"/>\n",
              "    <path d=\"M18.56 5.44l.94 2.06.94-2.06 2.06-.94-2.06-.94-.94-2.06-.94 2.06-2.06.94zm-11 1L8.5 8.5l.94-2.06 2.06-.94-2.06-.94L8.5 2.5l-.94 2.06-2.06.94zm10 10l.94 2.06.94-2.06 2.06-.94-2.06-.94-.94-2.06-.94 2.06-2.06.94z\"/><path d=\"M17.41 7.96l-1.37-1.37c-.4-.4-.92-.59-1.43-.59-.52 0-1.04.2-1.43.59L10.3 9.45l-7.72 7.72c-.78.78-.78 2.05 0 2.83L4 21.41c.39.39.9.59 1.41.59.51 0 1.02-.2 1.41-.59l7.78-7.78 2.81-2.81c.8-.78.8-2.07 0-2.86zM5.41 20L4 18.59l7.72-7.72 1.47 1.35L5.41 20z\"/>\n",
              "  </svg>\n",
              "      </button>\n",
              "      \n",
              "  <style>\n",
              "    .colab-df-container {\n",
              "      display:flex;\n",
              "      flex-wrap:wrap;\n",
              "      gap: 12px;\n",
              "    }\n",
              "\n",
              "    .colab-df-convert {\n",
              "      background-color: #E8F0FE;\n",
              "      border: none;\n",
              "      border-radius: 50%;\n",
              "      cursor: pointer;\n",
              "      display: none;\n",
              "      fill: #1967D2;\n",
              "      height: 32px;\n",
              "      padding: 0 0 0 0;\n",
              "      width: 32px;\n",
              "    }\n",
              "\n",
              "    .colab-df-convert:hover {\n",
              "      background-color: #E2EBFA;\n",
              "      box-shadow: 0px 1px 2px rgba(60, 64, 67, 0.3), 0px 1px 3px 1px rgba(60, 64, 67, 0.15);\n",
              "      fill: #174EA6;\n",
              "    }\n",
              "\n",
              "    [theme=dark] .colab-df-convert {\n",
              "      background-color: #3B4455;\n",
              "      fill: #D2E3FC;\n",
              "    }\n",
              "\n",
              "    [theme=dark] .colab-df-convert:hover {\n",
              "      background-color: #434B5C;\n",
              "      box-shadow: 0px 1px 3px 1px rgba(0, 0, 0, 0.15);\n",
              "      filter: drop-shadow(0px 1px 2px rgba(0, 0, 0, 0.3));\n",
              "      fill: #FFFFFF;\n",
              "    }\n",
              "  </style>\n",
              "\n",
              "      <script>\n",
              "        const buttonEl =\n",
              "          document.querySelector('#df-b8134b8f-9f1b-4dac-aed1-d38e9f7b6eb1 button.colab-df-convert');\n",
              "        buttonEl.style.display =\n",
              "          google.colab.kernel.accessAllowed ? 'block' : 'none';\n",
              "\n",
              "        async function convertToInteractive(key) {\n",
              "          const element = document.querySelector('#df-b8134b8f-9f1b-4dac-aed1-d38e9f7b6eb1');\n",
              "          const dataTable =\n",
              "            await google.colab.kernel.invokeFunction('convertToInteractive',\n",
              "                                                     [key], {});\n",
              "          if (!dataTable) return;\n",
              "\n",
              "          const docLinkHtml = 'Like what you see? Visit the ' +\n",
              "            '<a target=\"_blank\" href=https://colab.research.google.com/notebooks/data_table.ipynb>data table notebook</a>'\n",
              "            + ' to learn more about interactive tables.';\n",
              "          element.innerHTML = '';\n",
              "          dataTable['output_type'] = 'display_data';\n",
              "          await google.colab.output.renderOutput(dataTable, element);\n",
              "          const docLink = document.createElement('div');\n",
              "          docLink.innerHTML = docLinkHtml;\n",
              "          element.appendChild(docLink);\n",
              "        }\n",
              "      </script>\n",
              "    </div>\n",
              "  </div>\n",
              "  "
            ]
          },
          "metadata": {},
          "execution_count": 24
        }
      ]
    },
    {
      "cell_type": "code",
      "source": [
        "#Bert"
      ],
      "metadata": {
        "id": "gDs57mmsrDKR"
      },
      "id": "gDs57mmsrDKR",
      "execution_count": null,
      "outputs": []
    },
    {
      "cell_type": "code",
      "source": [
        "hub_url_bert = \"https://tfhub.dev/tensorflow/bert_en_uncased_L-12_H-768_A-12/3\"\n"
      ],
      "metadata": {
        "id": "vAofMxggupNy"
      },
      "id": "vAofMxggupNy",
      "execution_count": 6,
      "outputs": []
    },
    {
      "cell_type": "code",
      "source": [
        "from transformers import *\n",
        "from transformers import BertTokenizer, TFBertModel, BertConfig\n",
        "bert_tokenizer = BertTokenizer.from_pretrained(\"bert-base-uncased\")\n",
        "bert_model = TFBertForSequenceClassification.from_pretrained('bert-base-uncased',num_labels=2)"
      ],
      "metadata": {
        "colab": {
          "base_uri": "https://localhost:8080/",
          "height": 1000,
          "referenced_widgets": [
            "4e3ba0635b4e4aa4b1acda7872800169",
            "98d6a0400360484cb40b5e66fd950429",
            "4e5c26255a5c44d585d35f2074deaf83",
            "159e190c76a54c488c720bbf23f16a6a",
            "9a346dc2be0d4ef6b5cdf394fdb0e891",
            "6c073ebf991a48e18947f919ba437fa7",
            "9d9437837adc477db7ea810e4ecec057",
            "983a6b350c804fce87bed3bed48a361d",
            "2af6735c7ca74978984e04e0092d996f",
            "b3f9ddb19c0a4094bb01e3a24dff217e",
            "d00163c49a374d0799e6d3174cb9a140",
            "bc9951f6e8d547e3a69f0083a1c980fe",
            "b817d153d61d4d9e84426cdf6e02f22c",
            "cb4a865718eb481f9ed70c11c172e081",
            "2492ac2458fe4bcfa8c5909f88d7624f",
            "a87ac12fb4f546238b931a0aa03fd0da",
            "74548ada82a2478fb4736aacb42da344",
            "8f1bff4af37643869817a47872870712",
            "23325568502a45d8a7fe8ce5fa35b3cc",
            "4d3dad71db974df08a12802530ed328c",
            "62a4978c8ea7470fa2cf42bd8d656ded",
            "6e162d196e584e039a8aa2fa18c0a8de",
            "2a326e3deb684b59ab7e7f25dda93053",
            "c370ef411b1140939567fb2e0d8afff4",
            "3e39e2850c4946e9b6b1056180066bfb",
            "61eb0483c2174d0f8b8d8782845e24be",
            "900c6350f63c4acbb92465b7c3c957ce",
            "aeb1f682c73041a2a93c73f9ae3fa3cd",
            "861a80f3c83a4ab2a130dcde1ad0fde9",
            "f7ba4f8338914efba6e8445676d22996",
            "42a46f20f0eb43c29ff66d230de43411",
            "b34de36522624bc4a4a41c253cf461ed",
            "5f1e67c8acad449cba0cd5745cf570af",
            "2b16435fb7194c8c85c24b0f2cda8342",
            "918599bf7c7c4d13a7b140bcd3508422",
            "a2ca5394d3eb45dcbf157a620466affb",
            "26e7a828bf5043ec9e788413b4d0c06d",
            "a36a64782b1c4262a0bef411ec0f0728",
            "cd6fc7edd691415a80d8652a9dd0cf6a",
            "a51fdb83f29444549d004d05f6843263",
            "b48afbe3d83f421195498f99c2b99dad",
            "97d4215a95b9418991fcb03da1c32f64",
            "6da0046337a94711a1aef194952d2e24",
            "d5f5b37734d94d4086bdd10dee507955"
          ]
        },
        "id": "QIAEiyKoPoWy",
        "outputId": "2f92dec5-b940-443e-a67c-e6c73cf59f84"
      },
      "id": "QIAEiyKoPoWy",
      "execution_count": 13,
      "outputs": [
        {
          "output_type": "stream",
          "name": "stderr",
          "text": [
            "https://huggingface.co/bert-base-uncased/resolve/main/vocab.txt not found in cache or force_download set to True, downloading to /root/.cache/huggingface/transformers/tmpra5l74tm\n"
          ]
        },
        {
          "output_type": "display_data",
          "data": {
            "text/plain": [
              "Downloading:   0%|          | 0.00/226k [00:00<?, ?B/s]"
            ],
            "application/vnd.jupyter.widget-view+json": {
              "version_major": 2,
              "version_minor": 0,
              "model_id": "4e3ba0635b4e4aa4b1acda7872800169"
            }
          },
          "metadata": {}
        },
        {
          "output_type": "stream",
          "name": "stderr",
          "text": [
            "storing https://huggingface.co/bert-base-uncased/resolve/main/vocab.txt in cache at /root/.cache/huggingface/transformers/45c3f7a79a80e1cf0a489e5c62b43f173c15db47864303a55d623bb3c96f72a5.d789d64ebfe299b0e416afc4a169632f903f693095b4629a7ea271d5a0cf2c99\n",
            "creating metadata file for /root/.cache/huggingface/transformers/45c3f7a79a80e1cf0a489e5c62b43f173c15db47864303a55d623bb3c96f72a5.d789d64ebfe299b0e416afc4a169632f903f693095b4629a7ea271d5a0cf2c99\n",
            "https://huggingface.co/bert-base-uncased/resolve/main/tokenizer_config.json not found in cache or force_download set to True, downloading to /root/.cache/huggingface/transformers/tmp75acwo81\n"
          ]
        },
        {
          "output_type": "display_data",
          "data": {
            "text/plain": [
              "Downloading:   0%|          | 0.00/28.0 [00:00<?, ?B/s]"
            ],
            "application/vnd.jupyter.widget-view+json": {
              "version_major": 2,
              "version_minor": 0,
              "model_id": "bc9951f6e8d547e3a69f0083a1c980fe"
            }
          },
          "metadata": {}
        },
        {
          "output_type": "stream",
          "name": "stderr",
          "text": [
            "storing https://huggingface.co/bert-base-uncased/resolve/main/tokenizer_config.json in cache at /root/.cache/huggingface/transformers/c1d7f0a763fb63861cc08553866f1fc3e5a6f4f07621be277452d26d71303b7e.20430bd8e10ef77a7d2977accefe796051e01bc2fc4aa146bc862997a1a15e79\n",
            "creating metadata file for /root/.cache/huggingface/transformers/c1d7f0a763fb63861cc08553866f1fc3e5a6f4f07621be277452d26d71303b7e.20430bd8e10ef77a7d2977accefe796051e01bc2fc4aa146bc862997a1a15e79\n",
            "loading file https://huggingface.co/bert-base-uncased/resolve/main/vocab.txt from cache at /root/.cache/huggingface/transformers/45c3f7a79a80e1cf0a489e5c62b43f173c15db47864303a55d623bb3c96f72a5.d789d64ebfe299b0e416afc4a169632f903f693095b4629a7ea271d5a0cf2c99\n",
            "loading file https://huggingface.co/bert-base-uncased/resolve/main/added_tokens.json from cache at None\n",
            "loading file https://huggingface.co/bert-base-uncased/resolve/main/special_tokens_map.json from cache at None\n",
            "loading file https://huggingface.co/bert-base-uncased/resolve/main/tokenizer_config.json from cache at /root/.cache/huggingface/transformers/c1d7f0a763fb63861cc08553866f1fc3e5a6f4f07621be277452d26d71303b7e.20430bd8e10ef77a7d2977accefe796051e01bc2fc4aa146bc862997a1a15e79\n",
            "https://huggingface.co/bert-base-uncased/resolve/main/config.json not found in cache or force_download set to True, downloading to /root/.cache/huggingface/transformers/tmpfpoemhp2\n"
          ]
        },
        {
          "output_type": "display_data",
          "data": {
            "text/plain": [
              "Downloading:   0%|          | 0.00/570 [00:00<?, ?B/s]"
            ],
            "application/vnd.jupyter.widget-view+json": {
              "version_major": 2,
              "version_minor": 0,
              "model_id": "2a326e3deb684b59ab7e7f25dda93053"
            }
          },
          "metadata": {}
        },
        {
          "output_type": "stream",
          "name": "stderr",
          "text": [
            "storing https://huggingface.co/bert-base-uncased/resolve/main/config.json in cache at /root/.cache/huggingface/transformers/3c61d016573b14f7f008c02c4e51a366c67ab274726fe2910691e2a761acf43e.37395cee442ab11005bcd270f3c34464dc1704b715b5d7d52b1a461abe3b9e4e\n",
            "creating metadata file for /root/.cache/huggingface/transformers/3c61d016573b14f7f008c02c4e51a366c67ab274726fe2910691e2a761acf43e.37395cee442ab11005bcd270f3c34464dc1704b715b5d7d52b1a461abe3b9e4e\n",
            "loading configuration file https://huggingface.co/bert-base-uncased/resolve/main/config.json from cache at /root/.cache/huggingface/transformers/3c61d016573b14f7f008c02c4e51a366c67ab274726fe2910691e2a761acf43e.37395cee442ab11005bcd270f3c34464dc1704b715b5d7d52b1a461abe3b9e4e\n",
            "Model config BertConfig {\n",
            "  \"_name_or_path\": \"bert-base-uncased\",\n",
            "  \"architectures\": [\n",
            "    \"BertForMaskedLM\"\n",
            "  ],\n",
            "  \"attention_probs_dropout_prob\": 0.1,\n",
            "  \"classifier_dropout\": null,\n",
            "  \"gradient_checkpointing\": false,\n",
            "  \"hidden_act\": \"gelu\",\n",
            "  \"hidden_dropout_prob\": 0.1,\n",
            "  \"hidden_size\": 768,\n",
            "  \"initializer_range\": 0.02,\n",
            "  \"intermediate_size\": 3072,\n",
            "  \"layer_norm_eps\": 1e-12,\n",
            "  \"max_position_embeddings\": 512,\n",
            "  \"model_type\": \"bert\",\n",
            "  \"num_attention_heads\": 12,\n",
            "  \"num_hidden_layers\": 12,\n",
            "  \"pad_token_id\": 0,\n",
            "  \"position_embedding_type\": \"absolute\",\n",
            "  \"transformers_version\": \"4.18.0\",\n",
            "  \"type_vocab_size\": 2,\n",
            "  \"use_cache\": true,\n",
            "  \"vocab_size\": 30522\n",
            "}\n",
            "\n",
            "loading configuration file https://huggingface.co/bert-base-uncased/resolve/main/config.json from cache at /root/.cache/huggingface/transformers/3c61d016573b14f7f008c02c4e51a366c67ab274726fe2910691e2a761acf43e.37395cee442ab11005bcd270f3c34464dc1704b715b5d7d52b1a461abe3b9e4e\n",
            "Model config BertConfig {\n",
            "  \"architectures\": [\n",
            "    \"BertForMaskedLM\"\n",
            "  ],\n",
            "  \"attention_probs_dropout_prob\": 0.1,\n",
            "  \"classifier_dropout\": null,\n",
            "  \"gradient_checkpointing\": false,\n",
            "  \"hidden_act\": \"gelu\",\n",
            "  \"hidden_dropout_prob\": 0.1,\n",
            "  \"hidden_size\": 768,\n",
            "  \"initializer_range\": 0.02,\n",
            "  \"intermediate_size\": 3072,\n",
            "  \"layer_norm_eps\": 1e-12,\n",
            "  \"max_position_embeddings\": 512,\n",
            "  \"model_type\": \"bert\",\n",
            "  \"num_attention_heads\": 12,\n",
            "  \"num_hidden_layers\": 12,\n",
            "  \"pad_token_id\": 0,\n",
            "  \"position_embedding_type\": \"absolute\",\n",
            "  \"transformers_version\": \"4.18.0\",\n",
            "  \"type_vocab_size\": 2,\n",
            "  \"use_cache\": true,\n",
            "  \"vocab_size\": 30522\n",
            "}\n",
            "\n",
            "https://huggingface.co/bert-base-uncased/resolve/main/tf_model.h5 not found in cache or force_download set to True, downloading to /root/.cache/huggingface/transformers/tmp54jnoblv\n"
          ]
        },
        {
          "output_type": "display_data",
          "data": {
            "text/plain": [
              "Downloading:   0%|          | 0.00/511M [00:00<?, ?B/s]"
            ],
            "application/vnd.jupyter.widget-view+json": {
              "version_major": 2,
              "version_minor": 0,
              "model_id": "2b16435fb7194c8c85c24b0f2cda8342"
            }
          },
          "metadata": {}
        },
        {
          "output_type": "stream",
          "name": "stderr",
          "text": [
            "storing https://huggingface.co/bert-base-uncased/resolve/main/tf_model.h5 in cache at /root/.cache/huggingface/transformers/775efbdc2152093295bc5824dee96da82a5f3c1f218dfface1b8cef3094bdf8f.c719a806caef7d36ec0185f14b3b5fa727d919f924abe35622b4b7147bfbb8c7.h5\n",
            "creating metadata file for /root/.cache/huggingface/transformers/775efbdc2152093295bc5824dee96da82a5f3c1f218dfface1b8cef3094bdf8f.c719a806caef7d36ec0185f14b3b5fa727d919f924abe35622b4b7147bfbb8c7.h5\n",
            "loading weights file https://huggingface.co/bert-base-uncased/resolve/main/tf_model.h5 from cache at /root/.cache/huggingface/transformers/775efbdc2152093295bc5824dee96da82a5f3c1f218dfface1b8cef3094bdf8f.c719a806caef7d36ec0185f14b3b5fa727d919f924abe35622b4b7147bfbb8c7.h5\n",
            "All model checkpoint layers were used when initializing TFBertForSequenceClassification.\n",
            "\n",
            "Some layers of TFBertForSequenceClassification were not initialized from the model checkpoint at bert-base-uncased and are newly initialized: ['classifier']\n",
            "You should probably TRAIN this model on a down-stream task to be able to use it for predictions and inference.\n"
          ]
        }
      ]
    },
    {
      "cell_type": "code",
      "source": [
        "sentences=train['articleBody']\n",
        "headlines=train['Headline']\n",
        "labels=train['isRelated']\n",
        "len(sentences),len(labels)"
      ],
      "metadata": {
        "colab": {
          "base_uri": "https://localhost:8080/"
        },
        "id": "Bp2Xb1ouPq18",
        "outputId": "78a3f3ba-3a9a-440c-f057-3443ba07e7bf"
      },
      "id": "Bp2Xb1ouPq18",
      "execution_count": 14,
      "outputs": [
        {
          "output_type": "execute_result",
          "data": {
            "text/plain": [
              "(49972, 49972)"
            ]
          },
          "metadata": {},
          "execution_count": 14
        }
      ]
    },
    {
      "cell_type": "code",
      "source": [
        "sentences_test=test['articleBody']\n",
        "headlines_test=test['Headline']\n",
        "labels_test=test['isRelated']\n",
        "len(sentences_test),len(labels_test)"
      ],
      "metadata": {
        "colab": {
          "base_uri": "https://localhost:8080/"
        },
        "id": "D0TbIuLiRgyb",
        "outputId": "00a20a8c-b6cb-41c7-c318-cf555d466918"
      },
      "id": "D0TbIuLiRgyb",
      "execution_count": 15,
      "outputs": [
        {
          "output_type": "execute_result",
          "data": {
            "text/plain": [
              "(25413, 25413)"
            ]
          },
          "metadata": {},
          "execution_count": 15
        }
      ]
    },
    {
      "cell_type": "code",
      "source": [
        ""
      ],
      "metadata": {
        "id": "TeuXWXV4RpLK"
      },
      "id": "TeuXWXV4RpLK",
      "execution_count": null,
      "outputs": []
    },
    {
      "cell_type": "code",
      "source": [
        "import transformers\n",
        "transformers.logging.set_verbosity_error()"
      ],
      "metadata": {
        "id": "I7EDVMlwRpR7"
      },
      "id": "I7EDVMlwRpR7",
      "execution_count": 16,
      "outputs": []
    },
    {
      "cell_type": "code",
      "source": [
        "\n",
        "input_ids=[]\n",
        "attention_masks=[]\n",
        "\n",
        "for sent,head in zip(sentences,headlines):\n",
        "    encoding = bert_tokenizer(sent, head, padding=\"max_length\", truncation=True)\n",
        "    input_ids.append(encoding['input_ids'])\n",
        "    attention_masks.append(encoding['attention_mask'])\n",
        "\n",
        "input_ids=np.asarray(input_ids)\n",
        "attention_masks=np.array(attention_masks)\n",
        "labels=np.array(labels)"
      ],
      "metadata": {
        "id": "2qQVzcaDQLEI"
      },
      "id": "2qQVzcaDQLEI",
      "execution_count": 17,
      "outputs": []
    },
    {
      "cell_type": "code",
      "source": [
        "import transformers\n",
        "transformers.logging.set_verbosity_error()"
      ],
      "metadata": {
        "id": "3dR0YEiKb0cX"
      },
      "id": "3dR0YEiKb0cX",
      "execution_count": 18,
      "outputs": []
    },
    {
      "cell_type": "code",
      "source": [
        "input_ids_test=[]\n",
        "attention_masks_test=[]\n",
        "\n",
        "for sent,head in zip(sentences_test,headlines_test):\n",
        "    encoding = bert_tokenizer(sent, head, padding=\"max_length\", truncation=True)\n",
        "    input_ids_test.append(encoding['input_ids'])\n",
        "    attention_masks_test.append(encoding['attention_mask'])\n",
        "\n",
        "input_ids_test=np.asarray(input_ids_test)\n",
        "attention_masks_test=np.array(attention_masks_test)\n",
        "labels_test=np.array(labels_test)"
      ],
      "metadata": {
        "id": "MjqjaxZ2U3rg"
      },
      "id": "MjqjaxZ2U3rg",
      "execution_count": 19,
      "outputs": []
    },
    {
      "cell_type": "code",
      "source": [
        "import keras\n",
        "import tensorflow as tf\n",
        "log_dir='tensorboard_data/tb_bert'\n",
        "model_save_path='/content/drive/My Drive/Colab Notebooks/bert_modelMSCI.h5'\n",
        "\n",
        "callbacks = [tf.keras.callbacks.ModelCheckpoint(filepath=model_save_path,save_weights_only=True,monitor='val_loss',mode='min',save_best_only=True),keras.callbacks.TensorBoard(log_dir=log_dir)]\n",
        "\n",
        "print('\\nBert Model',bert_model.summary())\n",
        "\n",
        "loss = tf.keras.losses.SparseCategoricalCrossentropy(from_logits=True)\n",
        "metric = tf.keras.metrics.SparseCategoricalAccuracy('accuracy')\n",
        "optimizer = tf.keras.optimizers.Adam(learning_rate=2e-5,epsilon=1e-08)\n",
        "\n",
        "bert_model.compile(loss=loss,optimizer=optimizer,metrics=[metric])"
      ],
      "metadata": {
        "colab": {
          "base_uri": "https://localhost:8080/"
        },
        "id": "mzdRta0KTbWR",
        "outputId": "65eec07a-2290-4222-cfb9-c848aaa8ca2c"
      },
      "id": "mzdRta0KTbWR",
      "execution_count": 20,
      "outputs": [
        {
          "output_type": "stream",
          "name": "stdout",
          "text": [
            "Model: \"tf_bert_for_sequence_classification\"\n",
            "_________________________________________________________________\n",
            " Layer (type)                Output Shape              Param #   \n",
            "=================================================================\n",
            " bert (TFBertMainLayer)      multiple                  109482240 \n",
            "                                                                 \n",
            " dropout_37 (Dropout)        multiple                  0         \n",
            "                                                                 \n",
            " classifier (Dense)          multiple                  1538      \n",
            "                                                                 \n",
            "=================================================================\n",
            "Total params: 109,483,778\n",
            "Trainable params: 109,483,778\n",
            "Non-trainable params: 0\n",
            "_________________________________________________________________\n",
            "\n",
            "Bert Model None\n"
          ]
        }
      ]
    },
    {
      "cell_type": "code",
      "source": [
        "\n",
        "\n",
        "history=bert_model.fit([input_ids,attention_masks],labels,batch_size=8,epochs=2,validation_data=([input_ids_test,attention_masks_test], labels_test),callbacks=callbacks)"
      ],
      "metadata": {
        "colab": {
          "base_uri": "https://localhost:8080/"
        },
        "id": "lO-5fGIhTbZt",
        "outputId": "ee6bf588-a031-47d9-fae6-e585698b511b"
      },
      "id": "lO-5fGIhTbZt",
      "execution_count": 24,
      "outputs": [
        {
          "output_type": "stream",
          "name": "stdout",
          "text": [
            "Epoch 1/2\n",
            "6247/6247 [==============================] - 2365s 378ms/step - loss: 0.0614 - accuracy: 0.9773 - val_loss: 0.0791 - val_accuracy: 0.9775\n",
            "Epoch 2/2\n",
            "6247/6247 [==============================] - 2365s 379ms/step - loss: 0.0163 - accuracy: 0.9952 - val_loss: 0.0668 - val_accuracy: 0.9798\n"
          ]
        }
      ]
    },
    {
      "cell_type": "code",
      "source": [
        "from sklearn.metrics import confusion_matrix,f1_score,classification_report\n",
        "preds = bert_model.predict([input_ids_test,attention_masks_test],batch_size=32)\n"
      ],
      "metadata": {
        "colab": {
          "base_uri": "https://localhost:8080/",
          "height": 232
        },
        "id": "N3mIXmpxBwM7",
        "outputId": "0b12ef7f-9eed-4d4f-f91f-c0abf34c0c3a"
      },
      "id": "N3mIXmpxBwM7",
      "execution_count": 26,
      "outputs": [
        {
          "output_type": "error",
          "ename": "AttributeError",
          "evalue": "ignored",
          "traceback": [
            "\u001b[0;31m---------------------------------------------------------------------------\u001b[0m",
            "\u001b[0;31mAttributeError\u001b[0m                            Traceback (most recent call last)",
            "\u001b[0;32m<ipython-input-26-deb62cd2fcdc>\u001b[0m in \u001b[0;36m<module>\u001b[0;34m()\u001b[0m\n\u001b[1;32m      1\u001b[0m \u001b[0;32mfrom\u001b[0m \u001b[0msklearn\u001b[0m\u001b[0;34m.\u001b[0m\u001b[0mmetrics\u001b[0m \u001b[0;32mimport\u001b[0m \u001b[0mconfusion_matrix\u001b[0m\u001b[0;34m,\u001b[0m\u001b[0mf1_score\u001b[0m\u001b[0;34m,\u001b[0m\u001b[0mclassification_report\u001b[0m\u001b[0;34m\u001b[0m\u001b[0;34m\u001b[0m\u001b[0m\n\u001b[1;32m      2\u001b[0m \u001b[0mpreds\u001b[0m \u001b[0;34m=\u001b[0m \u001b[0mbert_model\u001b[0m\u001b[0;34m.\u001b[0m\u001b[0mpredict\u001b[0m\u001b[0;34m(\u001b[0m\u001b[0;34m[\u001b[0m\u001b[0minput_ids_test\u001b[0m\u001b[0;34m,\u001b[0m\u001b[0mattention_masks_test\u001b[0m\u001b[0;34m]\u001b[0m\u001b[0;34m,\u001b[0m\u001b[0mbatch_size\u001b[0m\u001b[0;34m=\u001b[0m\u001b[0;36m32\u001b[0m\u001b[0;34m)\u001b[0m\u001b[0;34m\u001b[0m\u001b[0;34m\u001b[0m\u001b[0m\n\u001b[0;32m----> 3\u001b[0;31m \u001b[0mpred_labels\u001b[0m \u001b[0;34m=\u001b[0m \u001b[0mpreds\u001b[0m\u001b[0;34m.\u001b[0m\u001b[0margmax\u001b[0m\u001b[0;34m(\u001b[0m\u001b[0maxis\u001b[0m\u001b[0;34m=\u001b[0m\u001b[0;36m1\u001b[0m\u001b[0;34m)\u001b[0m\u001b[0;34m\u001b[0m\u001b[0;34m\u001b[0m\u001b[0m\n\u001b[0m\u001b[1;32m      4\u001b[0m \u001b[0mf1\u001b[0m \u001b[0;34m=\u001b[0m \u001b[0mf1_score\u001b[0m\u001b[0;34m(\u001b[0m\u001b[0mlabels_test\u001b[0m\u001b[0;34m,\u001b[0m\u001b[0mpred_labels\u001b[0m\u001b[0;34m)\u001b[0m\u001b[0;34m\u001b[0m\u001b[0;34m\u001b[0m\u001b[0m\n\u001b[1;32m      5\u001b[0m \u001b[0mprint\u001b[0m\u001b[0;34m(\u001b[0m\u001b[0;34m'F1 score'\u001b[0m\u001b[0;34m,\u001b[0m\u001b[0mf1\u001b[0m\u001b[0;34m)\u001b[0m\u001b[0;34m\u001b[0m\u001b[0;34m\u001b[0m\u001b[0m\n",
            "\u001b[0;31mAttributeError\u001b[0m: 'TFSequenceClassifierOutput' object has no attribute 'argmax'"
          ]
        }
      ]
    },
    {
      "cell_type": "code",
      "source": [
        "preds"
      ],
      "metadata": {
        "colab": {
          "base_uri": "https://localhost:8080/"
        },
        "id": "86sJ3vCTEplF",
        "outputId": "b061c1c3-9a3f-406f-94c5-2d6037c00253"
      },
      "id": "86sJ3vCTEplF",
      "execution_count": 27,
      "outputs": [
        {
          "output_type": "execute_result",
          "data": {
            "text/plain": [
              "TFSequenceClassifierOutput([('logits', array([[ 3.837985  , -4.5293713 ],\n",
              "                                    [ 3.869339  , -4.5772123 ],\n",
              "                                    [ 3.688282  , -4.3433247 ],\n",
              "                                    ...,\n",
              "                                    [ 0.31520087, -0.78542036],\n",
              "                                    [-3.1341352 ,  3.2953494 ],\n",
              "                                    [-3.0060048 ,  3.1005082 ]], dtype=float32))])"
            ]
          },
          "metadata": {},
          "execution_count": 27
        }
      ]
    },
    {
      "cell_type": "code",
      "source": [
        "pred_labels = preds[0].argmax(axis=1)\n",
        "f1 = f1_score(labels_test,pred_labels)\n",
        "print('F1 score',f1)\n",
        "print('Classification Report')\n",
        "print(classification_report(labels_test,pred_labels))"
      ],
      "metadata": {
        "colab": {
          "base_uri": "https://localhost:8080/"
        },
        "id": "OoAw8GaJEnyu",
        "outputId": "9570da4f-ca97-4a7b-ad52-27e04de2cd9d"
      },
      "id": "OoAw8GaJEnyu",
      "execution_count": 28,
      "outputs": [
        {
          "output_type": "stream",
          "name": "stdout",
          "text": [
            "F1 score 0.9631541218637993\n",
            "Classification Report\n",
            "              precision    recall  f1-score   support\n",
            "\n",
            "           0       0.98      0.99      0.99     18349\n",
            "           1       0.98      0.95      0.96      7064\n",
            "\n",
            "    accuracy                           0.98     25413\n",
            "   macro avg       0.98      0.97      0.97     25413\n",
            "weighted avg       0.98      0.98      0.98     25413\n",
            "\n"
          ]
        }
      ]
    },
    {
      "cell_type": "code",
      "source": [
        "#Model 2 train to predicted related class"
      ],
      "metadata": {
        "id": "QaDg-U3fTbes"
      },
      "id": "QaDg-U3fTbes",
      "execution_count": null,
      "outputs": []
    },
    {
      "cell_type": "code",
      "source": [
        "train2 = train.loc[train['isRelated'] ==1]\n",
        "test2 = test.loc[test['isRelated'] ==1]"
      ],
      "metadata": {
        "id": "CJPYlbzJTbhv"
      },
      "id": "CJPYlbzJTbhv",
      "execution_count": 29,
      "outputs": []
    },
    {
      "cell_type": "code",
      "source": [
        "possible_labels = train2.Stance.unique()\n",
        "\n",
        "label_dict = {}\n",
        "for index, possible_label in enumerate(possible_labels):\n",
        "    label_dict[possible_label] = index\n",
        "label_dict"
      ],
      "metadata": {
        "colab": {
          "base_uri": "https://localhost:8080/"
        },
        "id": "ZeuPD-WQFS0Y",
        "outputId": "74858e53-8694-44eb-a4d3-7ba5be8d9f7b"
      },
      "id": "ZeuPD-WQFS0Y",
      "execution_count": 30,
      "outputs": [
        {
          "output_type": "execute_result",
          "data": {
            "text/plain": [
              "{'agree': 0, 'disagree': 1, 'discuss': 2}"
            ]
          },
          "metadata": {},
          "execution_count": 30
        }
      ]
    },
    {
      "cell_type": "code",
      "source": [
        "train2['label'] = train2.Stance.replace(label_dict)\n",
        "test2['label'] = test2.Stance.replace(label_dict)\n"
      ],
      "metadata": {
        "colab": {
          "base_uri": "https://localhost:8080/"
        },
        "id": "KheRRYaZFZRu",
        "outputId": "f94688a8-2ea6-4d1d-a4fe-924b2957b37a"
      },
      "id": "KheRRYaZFZRu",
      "execution_count": 32,
      "outputs": [
        {
          "output_type": "stream",
          "name": "stderr",
          "text": [
            "/usr/local/lib/python3.7/dist-packages/ipykernel_launcher.py:1: SettingWithCopyWarning: \n",
            "A value is trying to be set on a copy of a slice from a DataFrame.\n",
            "Try using .loc[row_indexer,col_indexer] = value instead\n",
            "\n",
            "See the caveats in the documentation: https://pandas.pydata.org/pandas-docs/stable/user_guide/indexing.html#returning-a-view-versus-a-copy\n",
            "  \"\"\"Entry point for launching an IPython kernel.\n",
            "/usr/local/lib/python3.7/dist-packages/ipykernel_launcher.py:2: SettingWithCopyWarning: \n",
            "A value is trying to be set on a copy of a slice from a DataFrame.\n",
            "Try using .loc[row_indexer,col_indexer] = value instead\n",
            "\n",
            "See the caveats in the documentation: https://pandas.pydata.org/pandas-docs/stable/user_guide/indexing.html#returning-a-view-versus-a-copy\n",
            "  \n"
          ]
        }
      ]
    },
    {
      "cell_type": "code",
      "source": [
        "sentences2=train2['articleBody']\n",
        "headlines2=train2['Headline']\n",
        "labels2=train2['label']\n",
        "len(sentences2),len(labels2)"
      ],
      "metadata": {
        "colab": {
          "base_uri": "https://localhost:8080/"
        },
        "id": "T8D6SGMmTblD",
        "outputId": "d527b44e-e005-4a41-ffe2-d026a00e5e88"
      },
      "id": "T8D6SGMmTblD",
      "execution_count": 35,
      "outputs": [
        {
          "output_type": "execute_result",
          "data": {
            "text/plain": [
              "(13427, 13427)"
            ]
          },
          "metadata": {},
          "execution_count": 35
        }
      ]
    },
    {
      "cell_type": "code",
      "source": [
        "sentences_test2=test2['articleBody']\n",
        "headlines_test2=test2['Headline']\n",
        "labels_test2=test2['label']\n",
        "len(sentences_test2),len(labels_test2)"
      ],
      "metadata": {
        "id": "lOnZLvQrQkpN",
        "colab": {
          "base_uri": "https://localhost:8080/"
        },
        "outputId": "541f2297-af9d-4d15-ccc9-1b4d6cb0d94f"
      },
      "id": "lOnZLvQrQkpN",
      "execution_count": 37,
      "outputs": [
        {
          "output_type": "execute_result",
          "data": {
            "text/plain": [
              "(7064, 7064)"
            ]
          },
          "metadata": {},
          "execution_count": 37
        }
      ]
    },
    {
      "cell_type": "code",
      "source": [
        "\n",
        "input_ids2=[]\n",
        "attention_masks2=[]\n",
        "\n",
        "for sent,head in zip(sentences2,headlines2):\n",
        "    encoding = bert_tokenizer(sent, head, padding=\"max_length\", truncation=True)\n",
        "    input_ids2.append(encoding['input_ids'])\n",
        "    attention_masks2.append(encoding['attention_mask'])\n",
        "\n",
        "input_ids2=np.asarray(input_ids2)\n",
        "attention_masks2=np.array(attention_masks2)\n",
        "labels2=np.array(labels2)"
      ],
      "metadata": {
        "id": "2jGlMzz1awCB"
      },
      "id": "2jGlMzz1awCB",
      "execution_count": 38,
      "outputs": []
    },
    {
      "cell_type": "code",
      "source": [
        "input_ids_test2=[]\n",
        "attention_masks_test2=[]\n",
        "\n",
        "for sent,head in zip(sentences_test2,headlines_test2):\n",
        "    encoding = bert_tokenizer(sent, head, padding=\"max_length\", truncation=True)\n",
        "    input_ids_test2.append(encoding['input_ids'])\n",
        "    attention_masks_test2.append(encoding['attention_mask'])\n",
        "\n",
        "input_ids_test2=np.asarray(input_ids_test2)\n",
        "attention_masks_test2=np.array(attention_masks_test2)\n",
        "labels_test2=np.array(labels_test2)"
      ],
      "metadata": {
        "id": "DPY4uEtJaxXW"
      },
      "id": "DPY4uEtJaxXW",
      "execution_count": 40,
      "outputs": []
    },
    {
      "cell_type": "code",
      "source": [
        "bert_model2 = TFBertForSequenceClassification.from_pretrained('bert-base-uncased',num_labels=3)"
      ],
      "metadata": {
        "id": "H_9yGJJ5GidE"
      },
      "id": "H_9yGJJ5GidE",
      "execution_count": 41,
      "outputs": []
    },
    {
      "cell_type": "code",
      "source": [
        "log_dir='tensorboard_data/tb_bert'\n",
        "model_save_path='/content/drive/My Drive/Colab Notebooks/bert_model2MSCI.h5'\n",
        "\n",
        "callbacks = [tf.keras.callbacks.ModelCheckpoint(filepath=model_save_path,save_weights_only=True,monitor='val_loss',mode='min',save_best_only=True),keras.callbacks.TensorBoard(log_dir=log_dir)]\n",
        "\n",
        "print('\\nBert Model',bert_model2.summary())\n",
        "\n",
        "loss = tf.keras.losses.SparseCategoricalCrossentropy(from_logits=True)\n",
        "metric = tf.keras.metrics.SparseCategoricalAccuracy('accuracy')\n",
        "optimizer = tf.keras.optimizers.Adam(learning_rate=2e-5,epsilon=1e-08)\n",
        "\n",
        "bert_model2.compile(loss=loss,optimizer=optimizer,metrics=[metric])"
      ],
      "metadata": {
        "colab": {
          "base_uri": "https://localhost:8080/"
        },
        "id": "XvkCN2zPGz6R",
        "outputId": "55e2dc2f-f0c7-44a9-c324-aaa84a9f3fc5"
      },
      "id": "XvkCN2zPGz6R",
      "execution_count": 42,
      "outputs": [
        {
          "output_type": "stream",
          "name": "stdout",
          "text": [
            "Model: \"tf_bert_for_sequence_classification_1\"\n",
            "_________________________________________________________________\n",
            " Layer (type)                Output Shape              Param #   \n",
            "=================================================================\n",
            " bert (TFBertMainLayer)      multiple                  109482240 \n",
            "                                                                 \n",
            " dropout_75 (Dropout)        multiple                  0         \n",
            "                                                                 \n",
            " classifier (Dense)          multiple                  2307      \n",
            "                                                                 \n",
            "=================================================================\n",
            "Total params: 109,484,547\n",
            "Trainable params: 109,484,547\n",
            "Non-trainable params: 0\n",
            "_________________________________________________________________\n",
            "\n",
            "Bert Model None\n"
          ]
        }
      ]
    },
    {
      "cell_type": "code",
      "source": [
        "history2=bert_model2.fit([input_ids2,attention_masks2],labels2,batch_size=8,epochs=3,validation_data=([input_ids_test2,attention_masks_test2], labels_test2),callbacks=callbacks)"
      ],
      "metadata": {
        "colab": {
          "base_uri": "https://localhost:8080/"
        },
        "id": "abc9pFWsG0AP",
        "outputId": "2d6aff3a-cd79-485d-9d9f-ecdc57fe3d68"
      },
      "id": "abc9pFWsG0AP",
      "execution_count": 45,
      "outputs": [
        {
          "output_type": "stream",
          "name": "stdout",
          "text": [
            "Epoch 1/3\n",
            "1679/1679 [==============================] - 627s 373ms/step - loss: 0.5278 - accuracy: 0.7884 - val_loss: 0.7295 - val_accuracy: 0.6969\n",
            "Epoch 2/3\n",
            "1679/1679 [==============================] - 624s 372ms/step - loss: 0.3077 - accuracy: 0.8777 - val_loss: 0.9125 - val_accuracy: 0.6966\n",
            "Epoch 3/3\n",
            "1679/1679 [==============================] - 624s 372ms/step - loss: 0.2074 - accuracy: 0.9159 - val_loss: 0.8823 - val_accuracy: 0.7089\n"
          ]
        }
      ]
    },
    {
      "cell_type": "code",
      "source": [
        "preds2 = bert_model2.predict([input_ids_test2,attention_masks_test2],batch_size=32)\n"
      ],
      "metadata": {
        "id": "A1UVUKBxG0EJ"
      },
      "id": "A1UVUKBxG0EJ",
      "execution_count": 46,
      "outputs": []
    },
    {
      "cell_type": "code",
      "source": [
        "pred_labels2 = preds2[0].argmax(axis=1)\n",
        "print('Classification Report')\n",
        "print(classification_report(labels_test2,pred_labels2))"
      ],
      "metadata": {
        "colab": {
          "base_uri": "https://localhost:8080/"
        },
        "id": "j-AIBFc4G0Fn",
        "outputId": "1f034333-bfc1-4642-c256-78d89b38504f"
      },
      "id": "j-AIBFc4G0Fn",
      "execution_count": 47,
      "outputs": [
        {
          "output_type": "stream",
          "name": "stdout",
          "text": [
            "Classification Report\n",
            "              precision    recall  f1-score   support\n",
            "\n",
            "           0       0.54      0.63      0.59      1903\n",
            "           1       0.31      0.10      0.15       697\n",
            "           2       0.81      0.84      0.82      4464\n",
            "\n",
            "    accuracy                           0.71      7064\n",
            "   macro avg       0.55      0.52      0.52      7064\n",
            "weighted avg       0.69      0.71      0.69      7064\n",
            "\n"
          ]
        }
      ]
    },
    {
      "cell_type": "code",
      "source": [
        "result = pd.DataFrame(columns=['Headline', 'Body ID','Stance' ])"
      ],
      "metadata": {
        "id": "YHMglAUWPjHs"
      },
      "id": "YHMglAUWPjHs",
      "execution_count": 48,
      "outputs": []
    },
    {
      "cell_type": "code",
      "source": [
        "#Two stage bert pipeline. Discussed in report\n",
        "\n",
        "for i in range(len(test)):\n",
        "\n",
        "  inputID = []\n",
        "  AM = []\n",
        "\n",
        "  sent = test.loc[i,'articleBody']\n",
        "  head = test.loc[i,'Headline']\n",
        "  encoding = bert_tokenizer(sent, head, padding=\"max_length\", truncation=True)\n",
        "  inputID.append(encoding['input_ids'])\n",
        "  AM.append(encoding['attention_mask'])\n",
        "\n",
        "  inputID=np.asarray(inputID)\n",
        "  AM=np.array(AM)\n",
        "\n",
        "  stance = bert_model.predict([inputID,AM],batch_size=32)\n",
        "\n",
        "  stance = stance[0].argmax(axis=1)\n",
        "\n",
        "  if stance == 0:\n",
        "    row = {'Headline': head, 'Body ID':test.loc[i,'Body ID'] , 'Stance': 'unrelated'}\n",
        "    result = result.append(row, ignore_index = True)\n",
        "\n",
        "  else:\n",
        "    stance = bert_model2.predict([inputID,AM],batch_size=32)\n",
        "    stance = stance[0].argmax(axis=1)\n",
        "\n",
        "    if stance == 0:\n",
        "      row = {'Headline': head, 'Body ID':test.loc[i,'Body ID'] , 'Stance': 'agree'}\n",
        "      result = result.append(row, ignore_index = True)\n",
        "    elif stance == 1:\n",
        "      row = {'Headline': head, 'Body ID':test.loc[i,'Body ID'] , 'Stance': 'disagree'}\n",
        "      result = result.append(row, ignore_index = True)      \n",
        "    else:\n",
        "      row = {'Headline': head, 'Body ID':test.loc[i,'Body ID'] , 'Stance': 'discuss'}\n",
        "      result = result.append(row, ignore_index = True)\n",
        "\n",
        "\n",
        "\n",
        "\n",
        "\n",
        "\n",
        "\n"
      ],
      "metadata": {
        "id": "4cTqh4iOPMnJ"
      },
      "id": "4cTqh4iOPMnJ",
      "execution_count": 51,
      "outputs": []
    },
    {
      "cell_type": "code",
      "source": [
        "result.to_csv('/content/drive/My Drive/Colab Notebooks/answer.csv' ,index=False, encoding='utf-8')"
      ],
      "metadata": {
        "id": "LEmm5lUienyt"
      },
      "id": "LEmm5lUienyt",
      "execution_count": 58,
      "outputs": []
    },
    {
      "cell_type": "code",
      "source": [
        "test"
      ],
      "metadata": {
        "colab": {
          "base_uri": "https://localhost:8080/",
          "height": 419
        },
        "id": "CZvXRDACfKxt",
        "outputId": "b11c0407-3ff9-43cb-b2a9-94f4b2cfc235"
      },
      "id": "CZvXRDACfKxt",
      "execution_count": 59,
      "outputs": [
        {
          "output_type": "execute_result",
          "data": {
            "text/plain": [
              "                                                Headline  Body ID     Stance  \\\n",
              "0      ferguson riots pregnant woman loses eye cops f...     2008  unrelated   \n",
              "1      crazy conservatives sure gitmo detainee killed...     1550  unrelated   \n",
              "2      russian guy says justin bieber ringtone saved ...        2  unrelated   \n",
              "3      zombie cat buried kitty believed dead meows ba...     1793  unrelated   \n",
              "4      argentinas president adopts boy end werewolf c...       37  unrelated   \n",
              "...                                                  ...      ...        ...   \n",
              "25408  success affordable care act hugely inconvenien...     2582      agree   \n",
              "25409  success affordable care act hugely inconvenien...     2583    discuss   \n",
              "25410  success affordable care act hugely inconvenien...     2584   disagree   \n",
              "25411  success affordable care act hugely inconvenien...     2585   disagree   \n",
              "25412  success affordable care act hugely inconvenien...     2586      agree   \n",
              "\n",
              "                                             articleBody  isRelated  \n",
              "0      respected senior french police officer investi...          0  \n",
              "1      dave morins social networking company path rep...          0  \n",
              "2      bereaved afghan mother took revenge taliban wa...          0  \n",
              "3      hewlettpackard officially splitting two follow...          0  \n",
              "4      airline passenger headed dallas removed plane ...          0  \n",
              "...                                                  ...        ...  \n",
              "25408  congressional republicans evidently hoping rep...          1  \n",
              "25409  obamacare work worth reflecting upon president...          1  \n",
              "25410  millions may lose coverage next year congress ...          1  \n",
              "25411  come november grim trudge across increasingly ...          1  \n",
              "25412  remember much republicans wanted repeal obamac...          1  \n",
              "\n",
              "[25413 rows x 5 columns]"
            ],
            "text/html": [
              "\n",
              "  <div id=\"df-9ace8b51-1291-4b8d-9b2e-2a2b1c16a576\">\n",
              "    <div class=\"colab-df-container\">\n",
              "      <div>\n",
              "<style scoped>\n",
              "    .dataframe tbody tr th:only-of-type {\n",
              "        vertical-align: middle;\n",
              "    }\n",
              "\n",
              "    .dataframe tbody tr th {\n",
              "        vertical-align: top;\n",
              "    }\n",
              "\n",
              "    .dataframe thead th {\n",
              "        text-align: right;\n",
              "    }\n",
              "</style>\n",
              "<table border=\"1\" class=\"dataframe\">\n",
              "  <thead>\n",
              "    <tr style=\"text-align: right;\">\n",
              "      <th></th>\n",
              "      <th>Headline</th>\n",
              "      <th>Body ID</th>\n",
              "      <th>Stance</th>\n",
              "      <th>articleBody</th>\n",
              "      <th>isRelated</th>\n",
              "    </tr>\n",
              "  </thead>\n",
              "  <tbody>\n",
              "    <tr>\n",
              "      <th>0</th>\n",
              "      <td>ferguson riots pregnant woman loses eye cops f...</td>\n",
              "      <td>2008</td>\n",
              "      <td>unrelated</td>\n",
              "      <td>respected senior french police officer investi...</td>\n",
              "      <td>0</td>\n",
              "    </tr>\n",
              "    <tr>\n",
              "      <th>1</th>\n",
              "      <td>crazy conservatives sure gitmo detainee killed...</td>\n",
              "      <td>1550</td>\n",
              "      <td>unrelated</td>\n",
              "      <td>dave morins social networking company path rep...</td>\n",
              "      <td>0</td>\n",
              "    </tr>\n",
              "    <tr>\n",
              "      <th>2</th>\n",
              "      <td>russian guy says justin bieber ringtone saved ...</td>\n",
              "      <td>2</td>\n",
              "      <td>unrelated</td>\n",
              "      <td>bereaved afghan mother took revenge taliban wa...</td>\n",
              "      <td>0</td>\n",
              "    </tr>\n",
              "    <tr>\n",
              "      <th>3</th>\n",
              "      <td>zombie cat buried kitty believed dead meows ba...</td>\n",
              "      <td>1793</td>\n",
              "      <td>unrelated</td>\n",
              "      <td>hewlettpackard officially splitting two follow...</td>\n",
              "      <td>0</td>\n",
              "    </tr>\n",
              "    <tr>\n",
              "      <th>4</th>\n",
              "      <td>argentinas president adopts boy end werewolf c...</td>\n",
              "      <td>37</td>\n",
              "      <td>unrelated</td>\n",
              "      <td>airline passenger headed dallas removed plane ...</td>\n",
              "      <td>0</td>\n",
              "    </tr>\n",
              "    <tr>\n",
              "      <th>...</th>\n",
              "      <td>...</td>\n",
              "      <td>...</td>\n",
              "      <td>...</td>\n",
              "      <td>...</td>\n",
              "      <td>...</td>\n",
              "    </tr>\n",
              "    <tr>\n",
              "      <th>25408</th>\n",
              "      <td>success affordable care act hugely inconvenien...</td>\n",
              "      <td>2582</td>\n",
              "      <td>agree</td>\n",
              "      <td>congressional republicans evidently hoping rep...</td>\n",
              "      <td>1</td>\n",
              "    </tr>\n",
              "    <tr>\n",
              "      <th>25409</th>\n",
              "      <td>success affordable care act hugely inconvenien...</td>\n",
              "      <td>2583</td>\n",
              "      <td>discuss</td>\n",
              "      <td>obamacare work worth reflecting upon president...</td>\n",
              "      <td>1</td>\n",
              "    </tr>\n",
              "    <tr>\n",
              "      <th>25410</th>\n",
              "      <td>success affordable care act hugely inconvenien...</td>\n",
              "      <td>2584</td>\n",
              "      <td>disagree</td>\n",
              "      <td>millions may lose coverage next year congress ...</td>\n",
              "      <td>1</td>\n",
              "    </tr>\n",
              "    <tr>\n",
              "      <th>25411</th>\n",
              "      <td>success affordable care act hugely inconvenien...</td>\n",
              "      <td>2585</td>\n",
              "      <td>disagree</td>\n",
              "      <td>come november grim trudge across increasingly ...</td>\n",
              "      <td>1</td>\n",
              "    </tr>\n",
              "    <tr>\n",
              "      <th>25412</th>\n",
              "      <td>success affordable care act hugely inconvenien...</td>\n",
              "      <td>2586</td>\n",
              "      <td>agree</td>\n",
              "      <td>remember much republicans wanted repeal obamac...</td>\n",
              "      <td>1</td>\n",
              "    </tr>\n",
              "  </tbody>\n",
              "</table>\n",
              "<p>25413 rows × 5 columns</p>\n",
              "</div>\n",
              "      <button class=\"colab-df-convert\" onclick=\"convertToInteractive('df-9ace8b51-1291-4b8d-9b2e-2a2b1c16a576')\"\n",
              "              title=\"Convert this dataframe to an interactive table.\"\n",
              "              style=\"display:none;\">\n",
              "        \n",
              "  <svg xmlns=\"http://www.w3.org/2000/svg\" height=\"24px\"viewBox=\"0 0 24 24\"\n",
              "       width=\"24px\">\n",
              "    <path d=\"M0 0h24v24H0V0z\" fill=\"none\"/>\n",
              "    <path d=\"M18.56 5.44l.94 2.06.94-2.06 2.06-.94-2.06-.94-.94-2.06-.94 2.06-2.06.94zm-11 1L8.5 8.5l.94-2.06 2.06-.94-2.06-.94L8.5 2.5l-.94 2.06-2.06.94zm10 10l.94 2.06.94-2.06 2.06-.94-2.06-.94-.94-2.06-.94 2.06-2.06.94z\"/><path d=\"M17.41 7.96l-1.37-1.37c-.4-.4-.92-.59-1.43-.59-.52 0-1.04.2-1.43.59L10.3 9.45l-7.72 7.72c-.78.78-.78 2.05 0 2.83L4 21.41c.39.39.9.59 1.41.59.51 0 1.02-.2 1.41-.59l7.78-7.78 2.81-2.81c.8-.78.8-2.07 0-2.86zM5.41 20L4 18.59l7.72-7.72 1.47 1.35L5.41 20z\"/>\n",
              "  </svg>\n",
              "      </button>\n",
              "      \n",
              "  <style>\n",
              "    .colab-df-container {\n",
              "      display:flex;\n",
              "      flex-wrap:wrap;\n",
              "      gap: 12px;\n",
              "    }\n",
              "\n",
              "    .colab-df-convert {\n",
              "      background-color: #E8F0FE;\n",
              "      border: none;\n",
              "      border-radius: 50%;\n",
              "      cursor: pointer;\n",
              "      display: none;\n",
              "      fill: #1967D2;\n",
              "      height: 32px;\n",
              "      padding: 0 0 0 0;\n",
              "      width: 32px;\n",
              "    }\n",
              "\n",
              "    .colab-df-convert:hover {\n",
              "      background-color: #E2EBFA;\n",
              "      box-shadow: 0px 1px 2px rgba(60, 64, 67, 0.3), 0px 1px 3px 1px rgba(60, 64, 67, 0.15);\n",
              "      fill: #174EA6;\n",
              "    }\n",
              "\n",
              "    [theme=dark] .colab-df-convert {\n",
              "      background-color: #3B4455;\n",
              "      fill: #D2E3FC;\n",
              "    }\n",
              "\n",
              "    [theme=dark] .colab-df-convert:hover {\n",
              "      background-color: #434B5C;\n",
              "      box-shadow: 0px 1px 3px 1px rgba(0, 0, 0, 0.15);\n",
              "      filter: drop-shadow(0px 1px 2px rgba(0, 0, 0, 0.3));\n",
              "      fill: #FFFFFF;\n",
              "    }\n",
              "  </style>\n",
              "\n",
              "      <script>\n",
              "        const buttonEl =\n",
              "          document.querySelector('#df-9ace8b51-1291-4b8d-9b2e-2a2b1c16a576 button.colab-df-convert');\n",
              "        buttonEl.style.display =\n",
              "          google.colab.kernel.accessAllowed ? 'block' : 'none';\n",
              "\n",
              "        async function convertToInteractive(key) {\n",
              "          const element = document.querySelector('#df-9ace8b51-1291-4b8d-9b2e-2a2b1c16a576');\n",
              "          const dataTable =\n",
              "            await google.colab.kernel.invokeFunction('convertToInteractive',\n",
              "                                                     [key], {});\n",
              "          if (!dataTable) return;\n",
              "\n",
              "          const docLinkHtml = 'Like what you see? Visit the ' +\n",
              "            '<a target=\"_blank\" href=https://colab.research.google.com/notebooks/data_table.ipynb>data table notebook</a>'\n",
              "            + ' to learn more about interactive tables.';\n",
              "          element.innerHTML = '';\n",
              "          dataTable['output_type'] = 'display_data';\n",
              "          await google.colab.output.renderOutput(dataTable, element);\n",
              "          const docLink = document.createElement('div');\n",
              "          docLink.innerHTML = docLinkHtml;\n",
              "          element.appendChild(docLink);\n",
              "        }\n",
              "      </script>\n",
              "    </div>\n",
              "  </div>\n",
              "  "
            ]
          },
          "metadata": {},
          "execution_count": 59
        }
      ]
    },
    {
      "cell_type": "code",
      "source": [
        "result"
      ],
      "metadata": {
        "colab": {
          "base_uri": "https://localhost:8080/",
          "height": 419
        },
        "id": "zOtRsEusgQYs",
        "outputId": "3f59b943-a85f-4eab-df94-7fd3eac94375"
      },
      "id": "zOtRsEusgQYs",
      "execution_count": 64,
      "outputs": [
        {
          "output_type": "execute_result",
          "data": {
            "text/plain": [
              "                                                Headline  Body ID     Stance\n",
              "0      ferguson riots pregnant woman loses eye cops f...   2008.0  unrelated\n",
              "1      crazy conservatives sure gitmo detainee killed...   1550.0  unrelated\n",
              "2      russian guy says justin bieber ringtone saved ...      2.0  unrelated\n",
              "3      zombie cat buried kitty believed dead meows ba...   1793.0  unrelated\n",
              "4      argentinas president adopts boy end werewolf c...     37.0  unrelated\n",
              "...                                                  ...      ...        ...\n",
              "25408  success affordable care act hugely inconvenien...   2582.0      agree\n",
              "25409  success affordable care act hugely inconvenien...   2583.0    discuss\n",
              "25410  success affordable care act hugely inconvenien...   2584.0  unrelated\n",
              "25411  success affordable care act hugely inconvenien...   2585.0      agree\n",
              "25412  success affordable care act hugely inconvenien...   2586.0      agree\n",
              "\n",
              "[25413 rows x 3 columns]"
            ],
            "text/html": [
              "\n",
              "  <div id=\"df-32c10caa-cbd4-4aca-932c-db265f2051e2\">\n",
              "    <div class=\"colab-df-container\">\n",
              "      <div>\n",
              "<style scoped>\n",
              "    .dataframe tbody tr th:only-of-type {\n",
              "        vertical-align: middle;\n",
              "    }\n",
              "\n",
              "    .dataframe tbody tr th {\n",
              "        vertical-align: top;\n",
              "    }\n",
              "\n",
              "    .dataframe thead th {\n",
              "        text-align: right;\n",
              "    }\n",
              "</style>\n",
              "<table border=\"1\" class=\"dataframe\">\n",
              "  <thead>\n",
              "    <tr style=\"text-align: right;\">\n",
              "      <th></th>\n",
              "      <th>Headline</th>\n",
              "      <th>Body ID</th>\n",
              "      <th>Stance</th>\n",
              "    </tr>\n",
              "  </thead>\n",
              "  <tbody>\n",
              "    <tr>\n",
              "      <th>0</th>\n",
              "      <td>ferguson riots pregnant woman loses eye cops f...</td>\n",
              "      <td>2008.0</td>\n",
              "      <td>unrelated</td>\n",
              "    </tr>\n",
              "    <tr>\n",
              "      <th>1</th>\n",
              "      <td>crazy conservatives sure gitmo detainee killed...</td>\n",
              "      <td>1550.0</td>\n",
              "      <td>unrelated</td>\n",
              "    </tr>\n",
              "    <tr>\n",
              "      <th>2</th>\n",
              "      <td>russian guy says justin bieber ringtone saved ...</td>\n",
              "      <td>2.0</td>\n",
              "      <td>unrelated</td>\n",
              "    </tr>\n",
              "    <tr>\n",
              "      <th>3</th>\n",
              "      <td>zombie cat buried kitty believed dead meows ba...</td>\n",
              "      <td>1793.0</td>\n",
              "      <td>unrelated</td>\n",
              "    </tr>\n",
              "    <tr>\n",
              "      <th>4</th>\n",
              "      <td>argentinas president adopts boy end werewolf c...</td>\n",
              "      <td>37.0</td>\n",
              "      <td>unrelated</td>\n",
              "    </tr>\n",
              "    <tr>\n",
              "      <th>...</th>\n",
              "      <td>...</td>\n",
              "      <td>...</td>\n",
              "      <td>...</td>\n",
              "    </tr>\n",
              "    <tr>\n",
              "      <th>25408</th>\n",
              "      <td>success affordable care act hugely inconvenien...</td>\n",
              "      <td>2582.0</td>\n",
              "      <td>agree</td>\n",
              "    </tr>\n",
              "    <tr>\n",
              "      <th>25409</th>\n",
              "      <td>success affordable care act hugely inconvenien...</td>\n",
              "      <td>2583.0</td>\n",
              "      <td>discuss</td>\n",
              "    </tr>\n",
              "    <tr>\n",
              "      <th>25410</th>\n",
              "      <td>success affordable care act hugely inconvenien...</td>\n",
              "      <td>2584.0</td>\n",
              "      <td>unrelated</td>\n",
              "    </tr>\n",
              "    <tr>\n",
              "      <th>25411</th>\n",
              "      <td>success affordable care act hugely inconvenien...</td>\n",
              "      <td>2585.0</td>\n",
              "      <td>agree</td>\n",
              "    </tr>\n",
              "    <tr>\n",
              "      <th>25412</th>\n",
              "      <td>success affordable care act hugely inconvenien...</td>\n",
              "      <td>2586.0</td>\n",
              "      <td>agree</td>\n",
              "    </tr>\n",
              "  </tbody>\n",
              "</table>\n",
              "<p>25413 rows × 3 columns</p>\n",
              "</div>\n",
              "      <button class=\"colab-df-convert\" onclick=\"convertToInteractive('df-32c10caa-cbd4-4aca-932c-db265f2051e2')\"\n",
              "              title=\"Convert this dataframe to an interactive table.\"\n",
              "              style=\"display:none;\">\n",
              "        \n",
              "  <svg xmlns=\"http://www.w3.org/2000/svg\" height=\"24px\"viewBox=\"0 0 24 24\"\n",
              "       width=\"24px\">\n",
              "    <path d=\"M0 0h24v24H0V0z\" fill=\"none\"/>\n",
              "    <path d=\"M18.56 5.44l.94 2.06.94-2.06 2.06-.94-2.06-.94-.94-2.06-.94 2.06-2.06.94zm-11 1L8.5 8.5l.94-2.06 2.06-.94-2.06-.94L8.5 2.5l-.94 2.06-2.06.94zm10 10l.94 2.06.94-2.06 2.06-.94-2.06-.94-.94-2.06-.94 2.06-2.06.94z\"/><path d=\"M17.41 7.96l-1.37-1.37c-.4-.4-.92-.59-1.43-.59-.52 0-1.04.2-1.43.59L10.3 9.45l-7.72 7.72c-.78.78-.78 2.05 0 2.83L4 21.41c.39.39.9.59 1.41.59.51 0 1.02-.2 1.41-.59l7.78-7.78 2.81-2.81c.8-.78.8-2.07 0-2.86zM5.41 20L4 18.59l7.72-7.72 1.47 1.35L5.41 20z\"/>\n",
              "  </svg>\n",
              "      </button>\n",
              "      \n",
              "  <style>\n",
              "    .colab-df-container {\n",
              "      display:flex;\n",
              "      flex-wrap:wrap;\n",
              "      gap: 12px;\n",
              "    }\n",
              "\n",
              "    .colab-df-convert {\n",
              "      background-color: #E8F0FE;\n",
              "      border: none;\n",
              "      border-radius: 50%;\n",
              "      cursor: pointer;\n",
              "      display: none;\n",
              "      fill: #1967D2;\n",
              "      height: 32px;\n",
              "      padding: 0 0 0 0;\n",
              "      width: 32px;\n",
              "    }\n",
              "\n",
              "    .colab-df-convert:hover {\n",
              "      background-color: #E2EBFA;\n",
              "      box-shadow: 0px 1px 2px rgba(60, 64, 67, 0.3), 0px 1px 3px 1px rgba(60, 64, 67, 0.15);\n",
              "      fill: #174EA6;\n",
              "    }\n",
              "\n",
              "    [theme=dark] .colab-df-convert {\n",
              "      background-color: #3B4455;\n",
              "      fill: #D2E3FC;\n",
              "    }\n",
              "\n",
              "    [theme=dark] .colab-df-convert:hover {\n",
              "      background-color: #434B5C;\n",
              "      box-shadow: 0px 1px 3px 1px rgba(0, 0, 0, 0.15);\n",
              "      filter: drop-shadow(0px 1px 2px rgba(0, 0, 0, 0.3));\n",
              "      fill: #FFFFFF;\n",
              "    }\n",
              "  </style>\n",
              "\n",
              "      <script>\n",
              "        const buttonEl =\n",
              "          document.querySelector('#df-32c10caa-cbd4-4aca-932c-db265f2051e2 button.colab-df-convert');\n",
              "        buttonEl.style.display =\n",
              "          google.colab.kernel.accessAllowed ? 'block' : 'none';\n",
              "\n",
              "        async function convertToInteractive(key) {\n",
              "          const element = document.querySelector('#df-32c10caa-cbd4-4aca-932c-db265f2051e2');\n",
              "          const dataTable =\n",
              "            await google.colab.kernel.invokeFunction('convertToInteractive',\n",
              "                                                     [key], {});\n",
              "          if (!dataTable) return;\n",
              "\n",
              "          const docLinkHtml = 'Like what you see? Visit the ' +\n",
              "            '<a target=\"_blank\" href=https://colab.research.google.com/notebooks/data_table.ipynb>data table notebook</a>'\n",
              "            + ' to learn more about interactive tables.';\n",
              "          element.innerHTML = '';\n",
              "          dataTable['output_type'] = 'display_data';\n",
              "          await google.colab.output.renderOutput(dataTable, element);\n",
              "          const docLink = document.createElement('div');\n",
              "          docLink.innerHTML = docLinkHtml;\n",
              "          element.appendChild(docLink);\n",
              "        }\n",
              "      </script>\n",
              "    </div>\n",
              "  </div>\n",
              "  "
            ]
          },
          "metadata": {},
          "execution_count": 64
        }
      ]
    },
    {
      "cell_type": "code",
      "source": [
        "print(classification_report(test['Stance'],result['Stance']))"
      ],
      "metadata": {
        "colab": {
          "base_uri": "https://localhost:8080/"
        },
        "id": "R61G_nkogdIm",
        "outputId": "ca056766-1db4-44c0-e854-6c81d7622d32"
      },
      "id": "R61G_nkogdIm",
      "execution_count": 65,
      "outputs": [
        {
          "output_type": "stream",
          "name": "stdout",
          "text": [
            "              precision    recall  f1-score   support\n",
            "\n",
            "       agree       0.55      0.61      0.57      1903\n",
            "    disagree       0.30      0.08      0.13       697\n",
            "     discuss       0.79      0.81      0.80      4464\n",
            "   unrelated       0.98      0.99      0.99     18349\n",
            "\n",
            "    accuracy                           0.90     25413\n",
            "   macro avg       0.65      0.62      0.62     25413\n",
            "weighted avg       0.90      0.90      0.90     25413\n",
            "\n"
          ]
        }
      ]
    },
    {
      "cell_type": "code",
      "source": [
        ""
      ],
      "metadata": {
        "id": "YBa2Eai8ne1p"
      },
      "id": "YBa2Eai8ne1p",
      "execution_count": null,
      "outputs": []
    }
  ],
  "metadata": {
    "accelerator": "GPU",
    "colab": {
      "name": "Bert.ipynb",
      "provenance": [],
      "collapsed_sections": [],
      "machine_shape": "hm",
      "background_execution": "on"
    },
    "kernelspec": {
      "display_name": "Python 3",
      "language": "python",
      "name": "python3"
    },
    "language_info": {
      "codemirror_mode": {
        "name": "ipython",
        "version": 3
      },
      "file_extension": ".py",
      "mimetype": "text/x-python",
      "name": "python",
      "nbconvert_exporter": "python",
      "pygments_lexer": "ipython3",
      "version": "3.8.8"
    },
    "widgets": {
      "application/vnd.jupyter.widget-state+json": {
        "4e3ba0635b4e4aa4b1acda7872800169": {
          "model_module": "@jupyter-widgets/controls",
          "model_name": "HBoxModel",
          "model_module_version": "1.5.0",
          "state": {
            "_dom_classes": [],
            "_model_module": "@jupyter-widgets/controls",
            "_model_module_version": "1.5.0",
            "_model_name": "HBoxModel",
            "_view_count": null,
            "_view_module": "@jupyter-widgets/controls",
            "_view_module_version": "1.5.0",
            "_view_name": "HBoxView",
            "box_style": "",
            "children": [
              "IPY_MODEL_98d6a0400360484cb40b5e66fd950429",
              "IPY_MODEL_4e5c26255a5c44d585d35f2074deaf83",
              "IPY_MODEL_159e190c76a54c488c720bbf23f16a6a"
            ],
            "layout": "IPY_MODEL_9a346dc2be0d4ef6b5cdf394fdb0e891"
          }
        },
        "98d6a0400360484cb40b5e66fd950429": {
          "model_module": "@jupyter-widgets/controls",
          "model_name": "HTMLModel",
          "model_module_version": "1.5.0",
          "state": {
            "_dom_classes": [],
            "_model_module": "@jupyter-widgets/controls",
            "_model_module_version": "1.5.0",
            "_model_name": "HTMLModel",
            "_view_count": null,
            "_view_module": "@jupyter-widgets/controls",
            "_view_module_version": "1.5.0",
            "_view_name": "HTMLView",
            "description": "",
            "description_tooltip": null,
            "layout": "IPY_MODEL_6c073ebf991a48e18947f919ba437fa7",
            "placeholder": "​",
            "style": "IPY_MODEL_9d9437837adc477db7ea810e4ecec057",
            "value": "Downloading: 100%"
          }
        },
        "4e5c26255a5c44d585d35f2074deaf83": {
          "model_module": "@jupyter-widgets/controls",
          "model_name": "FloatProgressModel",
          "model_module_version": "1.5.0",
          "state": {
            "_dom_classes": [],
            "_model_module": "@jupyter-widgets/controls",
            "_model_module_version": "1.5.0",
            "_model_name": "FloatProgressModel",
            "_view_count": null,
            "_view_module": "@jupyter-widgets/controls",
            "_view_module_version": "1.5.0",
            "_view_name": "ProgressView",
            "bar_style": "success",
            "description": "",
            "description_tooltip": null,
            "layout": "IPY_MODEL_983a6b350c804fce87bed3bed48a361d",
            "max": 231508,
            "min": 0,
            "orientation": "horizontal",
            "style": "IPY_MODEL_2af6735c7ca74978984e04e0092d996f",
            "value": 231508
          }
        },
        "159e190c76a54c488c720bbf23f16a6a": {
          "model_module": "@jupyter-widgets/controls",
          "model_name": "HTMLModel",
          "model_module_version": "1.5.0",
          "state": {
            "_dom_classes": [],
            "_model_module": "@jupyter-widgets/controls",
            "_model_module_version": "1.5.0",
            "_model_name": "HTMLModel",
            "_view_count": null,
            "_view_module": "@jupyter-widgets/controls",
            "_view_module_version": "1.5.0",
            "_view_name": "HTMLView",
            "description": "",
            "description_tooltip": null,
            "layout": "IPY_MODEL_b3f9ddb19c0a4094bb01e3a24dff217e",
            "placeholder": "​",
            "style": "IPY_MODEL_d00163c49a374d0799e6d3174cb9a140",
            "value": " 226k/226k [00:00&lt;00:00, 609kB/s]"
          }
        },
        "9a346dc2be0d4ef6b5cdf394fdb0e891": {
          "model_module": "@jupyter-widgets/base",
          "model_name": "LayoutModel",
          "model_module_version": "1.2.0",
          "state": {
            "_model_module": "@jupyter-widgets/base",
            "_model_module_version": "1.2.0",
            "_model_name": "LayoutModel",
            "_view_count": null,
            "_view_module": "@jupyter-widgets/base",
            "_view_module_version": "1.2.0",
            "_view_name": "LayoutView",
            "align_content": null,
            "align_items": null,
            "align_self": null,
            "border": null,
            "bottom": null,
            "display": null,
            "flex": null,
            "flex_flow": null,
            "grid_area": null,
            "grid_auto_columns": null,
            "grid_auto_flow": null,
            "grid_auto_rows": null,
            "grid_column": null,
            "grid_gap": null,
            "grid_row": null,
            "grid_template_areas": null,
            "grid_template_columns": null,
            "grid_template_rows": null,
            "height": null,
            "justify_content": null,
            "justify_items": null,
            "left": null,
            "margin": null,
            "max_height": null,
            "max_width": null,
            "min_height": null,
            "min_width": null,
            "object_fit": null,
            "object_position": null,
            "order": null,
            "overflow": null,
            "overflow_x": null,
            "overflow_y": null,
            "padding": null,
            "right": null,
            "top": null,
            "visibility": null,
            "width": null
          }
        },
        "6c073ebf991a48e18947f919ba437fa7": {
          "model_module": "@jupyter-widgets/base",
          "model_name": "LayoutModel",
          "model_module_version": "1.2.0",
          "state": {
            "_model_module": "@jupyter-widgets/base",
            "_model_module_version": "1.2.0",
            "_model_name": "LayoutModel",
            "_view_count": null,
            "_view_module": "@jupyter-widgets/base",
            "_view_module_version": "1.2.0",
            "_view_name": "LayoutView",
            "align_content": null,
            "align_items": null,
            "align_self": null,
            "border": null,
            "bottom": null,
            "display": null,
            "flex": null,
            "flex_flow": null,
            "grid_area": null,
            "grid_auto_columns": null,
            "grid_auto_flow": null,
            "grid_auto_rows": null,
            "grid_column": null,
            "grid_gap": null,
            "grid_row": null,
            "grid_template_areas": null,
            "grid_template_columns": null,
            "grid_template_rows": null,
            "height": null,
            "justify_content": null,
            "justify_items": null,
            "left": null,
            "margin": null,
            "max_height": null,
            "max_width": null,
            "min_height": null,
            "min_width": null,
            "object_fit": null,
            "object_position": null,
            "order": null,
            "overflow": null,
            "overflow_x": null,
            "overflow_y": null,
            "padding": null,
            "right": null,
            "top": null,
            "visibility": null,
            "width": null
          }
        },
        "9d9437837adc477db7ea810e4ecec057": {
          "model_module": "@jupyter-widgets/controls",
          "model_name": "DescriptionStyleModel",
          "model_module_version": "1.5.0",
          "state": {
            "_model_module": "@jupyter-widgets/controls",
            "_model_module_version": "1.5.0",
            "_model_name": "DescriptionStyleModel",
            "_view_count": null,
            "_view_module": "@jupyter-widgets/base",
            "_view_module_version": "1.2.0",
            "_view_name": "StyleView",
            "description_width": ""
          }
        },
        "983a6b350c804fce87bed3bed48a361d": {
          "model_module": "@jupyter-widgets/base",
          "model_name": "LayoutModel",
          "model_module_version": "1.2.0",
          "state": {
            "_model_module": "@jupyter-widgets/base",
            "_model_module_version": "1.2.0",
            "_model_name": "LayoutModel",
            "_view_count": null,
            "_view_module": "@jupyter-widgets/base",
            "_view_module_version": "1.2.0",
            "_view_name": "LayoutView",
            "align_content": null,
            "align_items": null,
            "align_self": null,
            "border": null,
            "bottom": null,
            "display": null,
            "flex": null,
            "flex_flow": null,
            "grid_area": null,
            "grid_auto_columns": null,
            "grid_auto_flow": null,
            "grid_auto_rows": null,
            "grid_column": null,
            "grid_gap": null,
            "grid_row": null,
            "grid_template_areas": null,
            "grid_template_columns": null,
            "grid_template_rows": null,
            "height": null,
            "justify_content": null,
            "justify_items": null,
            "left": null,
            "margin": null,
            "max_height": null,
            "max_width": null,
            "min_height": null,
            "min_width": null,
            "object_fit": null,
            "object_position": null,
            "order": null,
            "overflow": null,
            "overflow_x": null,
            "overflow_y": null,
            "padding": null,
            "right": null,
            "top": null,
            "visibility": null,
            "width": null
          }
        },
        "2af6735c7ca74978984e04e0092d996f": {
          "model_module": "@jupyter-widgets/controls",
          "model_name": "ProgressStyleModel",
          "model_module_version": "1.5.0",
          "state": {
            "_model_module": "@jupyter-widgets/controls",
            "_model_module_version": "1.5.0",
            "_model_name": "ProgressStyleModel",
            "_view_count": null,
            "_view_module": "@jupyter-widgets/base",
            "_view_module_version": "1.2.0",
            "_view_name": "StyleView",
            "bar_color": null,
            "description_width": ""
          }
        },
        "b3f9ddb19c0a4094bb01e3a24dff217e": {
          "model_module": "@jupyter-widgets/base",
          "model_name": "LayoutModel",
          "model_module_version": "1.2.0",
          "state": {
            "_model_module": "@jupyter-widgets/base",
            "_model_module_version": "1.2.0",
            "_model_name": "LayoutModel",
            "_view_count": null,
            "_view_module": "@jupyter-widgets/base",
            "_view_module_version": "1.2.0",
            "_view_name": "LayoutView",
            "align_content": null,
            "align_items": null,
            "align_self": null,
            "border": null,
            "bottom": null,
            "display": null,
            "flex": null,
            "flex_flow": null,
            "grid_area": null,
            "grid_auto_columns": null,
            "grid_auto_flow": null,
            "grid_auto_rows": null,
            "grid_column": null,
            "grid_gap": null,
            "grid_row": null,
            "grid_template_areas": null,
            "grid_template_columns": null,
            "grid_template_rows": null,
            "height": null,
            "justify_content": null,
            "justify_items": null,
            "left": null,
            "margin": null,
            "max_height": null,
            "max_width": null,
            "min_height": null,
            "min_width": null,
            "object_fit": null,
            "object_position": null,
            "order": null,
            "overflow": null,
            "overflow_x": null,
            "overflow_y": null,
            "padding": null,
            "right": null,
            "top": null,
            "visibility": null,
            "width": null
          }
        },
        "d00163c49a374d0799e6d3174cb9a140": {
          "model_module": "@jupyter-widgets/controls",
          "model_name": "DescriptionStyleModel",
          "model_module_version": "1.5.0",
          "state": {
            "_model_module": "@jupyter-widgets/controls",
            "_model_module_version": "1.5.0",
            "_model_name": "DescriptionStyleModel",
            "_view_count": null,
            "_view_module": "@jupyter-widgets/base",
            "_view_module_version": "1.2.0",
            "_view_name": "StyleView",
            "description_width": ""
          }
        },
        "bc9951f6e8d547e3a69f0083a1c980fe": {
          "model_module": "@jupyter-widgets/controls",
          "model_name": "HBoxModel",
          "model_module_version": "1.5.0",
          "state": {
            "_dom_classes": [],
            "_model_module": "@jupyter-widgets/controls",
            "_model_module_version": "1.5.0",
            "_model_name": "HBoxModel",
            "_view_count": null,
            "_view_module": "@jupyter-widgets/controls",
            "_view_module_version": "1.5.0",
            "_view_name": "HBoxView",
            "box_style": "",
            "children": [
              "IPY_MODEL_b817d153d61d4d9e84426cdf6e02f22c",
              "IPY_MODEL_cb4a865718eb481f9ed70c11c172e081",
              "IPY_MODEL_2492ac2458fe4bcfa8c5909f88d7624f"
            ],
            "layout": "IPY_MODEL_a87ac12fb4f546238b931a0aa03fd0da"
          }
        },
        "b817d153d61d4d9e84426cdf6e02f22c": {
          "model_module": "@jupyter-widgets/controls",
          "model_name": "HTMLModel",
          "model_module_version": "1.5.0",
          "state": {
            "_dom_classes": [],
            "_model_module": "@jupyter-widgets/controls",
            "_model_module_version": "1.5.0",
            "_model_name": "HTMLModel",
            "_view_count": null,
            "_view_module": "@jupyter-widgets/controls",
            "_view_module_version": "1.5.0",
            "_view_name": "HTMLView",
            "description": "",
            "description_tooltip": null,
            "layout": "IPY_MODEL_74548ada82a2478fb4736aacb42da344",
            "placeholder": "​",
            "style": "IPY_MODEL_8f1bff4af37643869817a47872870712",
            "value": "Downloading: 100%"
          }
        },
        "cb4a865718eb481f9ed70c11c172e081": {
          "model_module": "@jupyter-widgets/controls",
          "model_name": "FloatProgressModel",
          "model_module_version": "1.5.0",
          "state": {
            "_dom_classes": [],
            "_model_module": "@jupyter-widgets/controls",
            "_model_module_version": "1.5.0",
            "_model_name": "FloatProgressModel",
            "_view_count": null,
            "_view_module": "@jupyter-widgets/controls",
            "_view_module_version": "1.5.0",
            "_view_name": "ProgressView",
            "bar_style": "success",
            "description": "",
            "description_tooltip": null,
            "layout": "IPY_MODEL_23325568502a45d8a7fe8ce5fa35b3cc",
            "max": 28,
            "min": 0,
            "orientation": "horizontal",
            "style": "IPY_MODEL_4d3dad71db974df08a12802530ed328c",
            "value": 28
          }
        },
        "2492ac2458fe4bcfa8c5909f88d7624f": {
          "model_module": "@jupyter-widgets/controls",
          "model_name": "HTMLModel",
          "model_module_version": "1.5.0",
          "state": {
            "_dom_classes": [],
            "_model_module": "@jupyter-widgets/controls",
            "_model_module_version": "1.5.0",
            "_model_name": "HTMLModel",
            "_view_count": null,
            "_view_module": "@jupyter-widgets/controls",
            "_view_module_version": "1.5.0",
            "_view_name": "HTMLView",
            "description": "",
            "description_tooltip": null,
            "layout": "IPY_MODEL_62a4978c8ea7470fa2cf42bd8d656ded",
            "placeholder": "​",
            "style": "IPY_MODEL_6e162d196e584e039a8aa2fa18c0a8de",
            "value": " 28.0/28.0 [00:00&lt;00:00, 1.11kB/s]"
          }
        },
        "a87ac12fb4f546238b931a0aa03fd0da": {
          "model_module": "@jupyter-widgets/base",
          "model_name": "LayoutModel",
          "model_module_version": "1.2.0",
          "state": {
            "_model_module": "@jupyter-widgets/base",
            "_model_module_version": "1.2.0",
            "_model_name": "LayoutModel",
            "_view_count": null,
            "_view_module": "@jupyter-widgets/base",
            "_view_module_version": "1.2.0",
            "_view_name": "LayoutView",
            "align_content": null,
            "align_items": null,
            "align_self": null,
            "border": null,
            "bottom": null,
            "display": null,
            "flex": null,
            "flex_flow": null,
            "grid_area": null,
            "grid_auto_columns": null,
            "grid_auto_flow": null,
            "grid_auto_rows": null,
            "grid_column": null,
            "grid_gap": null,
            "grid_row": null,
            "grid_template_areas": null,
            "grid_template_columns": null,
            "grid_template_rows": null,
            "height": null,
            "justify_content": null,
            "justify_items": null,
            "left": null,
            "margin": null,
            "max_height": null,
            "max_width": null,
            "min_height": null,
            "min_width": null,
            "object_fit": null,
            "object_position": null,
            "order": null,
            "overflow": null,
            "overflow_x": null,
            "overflow_y": null,
            "padding": null,
            "right": null,
            "top": null,
            "visibility": null,
            "width": null
          }
        },
        "74548ada82a2478fb4736aacb42da344": {
          "model_module": "@jupyter-widgets/base",
          "model_name": "LayoutModel",
          "model_module_version": "1.2.0",
          "state": {
            "_model_module": "@jupyter-widgets/base",
            "_model_module_version": "1.2.0",
            "_model_name": "LayoutModel",
            "_view_count": null,
            "_view_module": "@jupyter-widgets/base",
            "_view_module_version": "1.2.0",
            "_view_name": "LayoutView",
            "align_content": null,
            "align_items": null,
            "align_self": null,
            "border": null,
            "bottom": null,
            "display": null,
            "flex": null,
            "flex_flow": null,
            "grid_area": null,
            "grid_auto_columns": null,
            "grid_auto_flow": null,
            "grid_auto_rows": null,
            "grid_column": null,
            "grid_gap": null,
            "grid_row": null,
            "grid_template_areas": null,
            "grid_template_columns": null,
            "grid_template_rows": null,
            "height": null,
            "justify_content": null,
            "justify_items": null,
            "left": null,
            "margin": null,
            "max_height": null,
            "max_width": null,
            "min_height": null,
            "min_width": null,
            "object_fit": null,
            "object_position": null,
            "order": null,
            "overflow": null,
            "overflow_x": null,
            "overflow_y": null,
            "padding": null,
            "right": null,
            "top": null,
            "visibility": null,
            "width": null
          }
        },
        "8f1bff4af37643869817a47872870712": {
          "model_module": "@jupyter-widgets/controls",
          "model_name": "DescriptionStyleModel",
          "model_module_version": "1.5.0",
          "state": {
            "_model_module": "@jupyter-widgets/controls",
            "_model_module_version": "1.5.0",
            "_model_name": "DescriptionStyleModel",
            "_view_count": null,
            "_view_module": "@jupyter-widgets/base",
            "_view_module_version": "1.2.0",
            "_view_name": "StyleView",
            "description_width": ""
          }
        },
        "23325568502a45d8a7fe8ce5fa35b3cc": {
          "model_module": "@jupyter-widgets/base",
          "model_name": "LayoutModel",
          "model_module_version": "1.2.0",
          "state": {
            "_model_module": "@jupyter-widgets/base",
            "_model_module_version": "1.2.0",
            "_model_name": "LayoutModel",
            "_view_count": null,
            "_view_module": "@jupyter-widgets/base",
            "_view_module_version": "1.2.0",
            "_view_name": "LayoutView",
            "align_content": null,
            "align_items": null,
            "align_self": null,
            "border": null,
            "bottom": null,
            "display": null,
            "flex": null,
            "flex_flow": null,
            "grid_area": null,
            "grid_auto_columns": null,
            "grid_auto_flow": null,
            "grid_auto_rows": null,
            "grid_column": null,
            "grid_gap": null,
            "grid_row": null,
            "grid_template_areas": null,
            "grid_template_columns": null,
            "grid_template_rows": null,
            "height": null,
            "justify_content": null,
            "justify_items": null,
            "left": null,
            "margin": null,
            "max_height": null,
            "max_width": null,
            "min_height": null,
            "min_width": null,
            "object_fit": null,
            "object_position": null,
            "order": null,
            "overflow": null,
            "overflow_x": null,
            "overflow_y": null,
            "padding": null,
            "right": null,
            "top": null,
            "visibility": null,
            "width": null
          }
        },
        "4d3dad71db974df08a12802530ed328c": {
          "model_module": "@jupyter-widgets/controls",
          "model_name": "ProgressStyleModel",
          "model_module_version": "1.5.0",
          "state": {
            "_model_module": "@jupyter-widgets/controls",
            "_model_module_version": "1.5.0",
            "_model_name": "ProgressStyleModel",
            "_view_count": null,
            "_view_module": "@jupyter-widgets/base",
            "_view_module_version": "1.2.0",
            "_view_name": "StyleView",
            "bar_color": null,
            "description_width": ""
          }
        },
        "62a4978c8ea7470fa2cf42bd8d656ded": {
          "model_module": "@jupyter-widgets/base",
          "model_name": "LayoutModel",
          "model_module_version": "1.2.0",
          "state": {
            "_model_module": "@jupyter-widgets/base",
            "_model_module_version": "1.2.0",
            "_model_name": "LayoutModel",
            "_view_count": null,
            "_view_module": "@jupyter-widgets/base",
            "_view_module_version": "1.2.0",
            "_view_name": "LayoutView",
            "align_content": null,
            "align_items": null,
            "align_self": null,
            "border": null,
            "bottom": null,
            "display": null,
            "flex": null,
            "flex_flow": null,
            "grid_area": null,
            "grid_auto_columns": null,
            "grid_auto_flow": null,
            "grid_auto_rows": null,
            "grid_column": null,
            "grid_gap": null,
            "grid_row": null,
            "grid_template_areas": null,
            "grid_template_columns": null,
            "grid_template_rows": null,
            "height": null,
            "justify_content": null,
            "justify_items": null,
            "left": null,
            "margin": null,
            "max_height": null,
            "max_width": null,
            "min_height": null,
            "min_width": null,
            "object_fit": null,
            "object_position": null,
            "order": null,
            "overflow": null,
            "overflow_x": null,
            "overflow_y": null,
            "padding": null,
            "right": null,
            "top": null,
            "visibility": null,
            "width": null
          }
        },
        "6e162d196e584e039a8aa2fa18c0a8de": {
          "model_module": "@jupyter-widgets/controls",
          "model_name": "DescriptionStyleModel",
          "model_module_version": "1.5.0",
          "state": {
            "_model_module": "@jupyter-widgets/controls",
            "_model_module_version": "1.5.0",
            "_model_name": "DescriptionStyleModel",
            "_view_count": null,
            "_view_module": "@jupyter-widgets/base",
            "_view_module_version": "1.2.0",
            "_view_name": "StyleView",
            "description_width": ""
          }
        },
        "2a326e3deb684b59ab7e7f25dda93053": {
          "model_module": "@jupyter-widgets/controls",
          "model_name": "HBoxModel",
          "model_module_version": "1.5.0",
          "state": {
            "_dom_classes": [],
            "_model_module": "@jupyter-widgets/controls",
            "_model_module_version": "1.5.0",
            "_model_name": "HBoxModel",
            "_view_count": null,
            "_view_module": "@jupyter-widgets/controls",
            "_view_module_version": "1.5.0",
            "_view_name": "HBoxView",
            "box_style": "",
            "children": [
              "IPY_MODEL_c370ef411b1140939567fb2e0d8afff4",
              "IPY_MODEL_3e39e2850c4946e9b6b1056180066bfb",
              "IPY_MODEL_61eb0483c2174d0f8b8d8782845e24be"
            ],
            "layout": "IPY_MODEL_900c6350f63c4acbb92465b7c3c957ce"
          }
        },
        "c370ef411b1140939567fb2e0d8afff4": {
          "model_module": "@jupyter-widgets/controls",
          "model_name": "HTMLModel",
          "model_module_version": "1.5.0",
          "state": {
            "_dom_classes": [],
            "_model_module": "@jupyter-widgets/controls",
            "_model_module_version": "1.5.0",
            "_model_name": "HTMLModel",
            "_view_count": null,
            "_view_module": "@jupyter-widgets/controls",
            "_view_module_version": "1.5.0",
            "_view_name": "HTMLView",
            "description": "",
            "description_tooltip": null,
            "layout": "IPY_MODEL_aeb1f682c73041a2a93c73f9ae3fa3cd",
            "placeholder": "​",
            "style": "IPY_MODEL_861a80f3c83a4ab2a130dcde1ad0fde9",
            "value": "Downloading: 100%"
          }
        },
        "3e39e2850c4946e9b6b1056180066bfb": {
          "model_module": "@jupyter-widgets/controls",
          "model_name": "FloatProgressModel",
          "model_module_version": "1.5.0",
          "state": {
            "_dom_classes": [],
            "_model_module": "@jupyter-widgets/controls",
            "_model_module_version": "1.5.0",
            "_model_name": "FloatProgressModel",
            "_view_count": null,
            "_view_module": "@jupyter-widgets/controls",
            "_view_module_version": "1.5.0",
            "_view_name": "ProgressView",
            "bar_style": "success",
            "description": "",
            "description_tooltip": null,
            "layout": "IPY_MODEL_f7ba4f8338914efba6e8445676d22996",
            "max": 570,
            "min": 0,
            "orientation": "horizontal",
            "style": "IPY_MODEL_42a46f20f0eb43c29ff66d230de43411",
            "value": 570
          }
        },
        "61eb0483c2174d0f8b8d8782845e24be": {
          "model_module": "@jupyter-widgets/controls",
          "model_name": "HTMLModel",
          "model_module_version": "1.5.0",
          "state": {
            "_dom_classes": [],
            "_model_module": "@jupyter-widgets/controls",
            "_model_module_version": "1.5.0",
            "_model_name": "HTMLModel",
            "_view_count": null,
            "_view_module": "@jupyter-widgets/controls",
            "_view_module_version": "1.5.0",
            "_view_name": "HTMLView",
            "description": "",
            "description_tooltip": null,
            "layout": "IPY_MODEL_b34de36522624bc4a4a41c253cf461ed",
            "placeholder": "​",
            "style": "IPY_MODEL_5f1e67c8acad449cba0cd5745cf570af",
            "value": " 570/570 [00:00&lt;00:00, 22.0kB/s]"
          }
        },
        "900c6350f63c4acbb92465b7c3c957ce": {
          "model_module": "@jupyter-widgets/base",
          "model_name": "LayoutModel",
          "model_module_version": "1.2.0",
          "state": {
            "_model_module": "@jupyter-widgets/base",
            "_model_module_version": "1.2.0",
            "_model_name": "LayoutModel",
            "_view_count": null,
            "_view_module": "@jupyter-widgets/base",
            "_view_module_version": "1.2.0",
            "_view_name": "LayoutView",
            "align_content": null,
            "align_items": null,
            "align_self": null,
            "border": null,
            "bottom": null,
            "display": null,
            "flex": null,
            "flex_flow": null,
            "grid_area": null,
            "grid_auto_columns": null,
            "grid_auto_flow": null,
            "grid_auto_rows": null,
            "grid_column": null,
            "grid_gap": null,
            "grid_row": null,
            "grid_template_areas": null,
            "grid_template_columns": null,
            "grid_template_rows": null,
            "height": null,
            "justify_content": null,
            "justify_items": null,
            "left": null,
            "margin": null,
            "max_height": null,
            "max_width": null,
            "min_height": null,
            "min_width": null,
            "object_fit": null,
            "object_position": null,
            "order": null,
            "overflow": null,
            "overflow_x": null,
            "overflow_y": null,
            "padding": null,
            "right": null,
            "top": null,
            "visibility": null,
            "width": null
          }
        },
        "aeb1f682c73041a2a93c73f9ae3fa3cd": {
          "model_module": "@jupyter-widgets/base",
          "model_name": "LayoutModel",
          "model_module_version": "1.2.0",
          "state": {
            "_model_module": "@jupyter-widgets/base",
            "_model_module_version": "1.2.0",
            "_model_name": "LayoutModel",
            "_view_count": null,
            "_view_module": "@jupyter-widgets/base",
            "_view_module_version": "1.2.0",
            "_view_name": "LayoutView",
            "align_content": null,
            "align_items": null,
            "align_self": null,
            "border": null,
            "bottom": null,
            "display": null,
            "flex": null,
            "flex_flow": null,
            "grid_area": null,
            "grid_auto_columns": null,
            "grid_auto_flow": null,
            "grid_auto_rows": null,
            "grid_column": null,
            "grid_gap": null,
            "grid_row": null,
            "grid_template_areas": null,
            "grid_template_columns": null,
            "grid_template_rows": null,
            "height": null,
            "justify_content": null,
            "justify_items": null,
            "left": null,
            "margin": null,
            "max_height": null,
            "max_width": null,
            "min_height": null,
            "min_width": null,
            "object_fit": null,
            "object_position": null,
            "order": null,
            "overflow": null,
            "overflow_x": null,
            "overflow_y": null,
            "padding": null,
            "right": null,
            "top": null,
            "visibility": null,
            "width": null
          }
        },
        "861a80f3c83a4ab2a130dcde1ad0fde9": {
          "model_module": "@jupyter-widgets/controls",
          "model_name": "DescriptionStyleModel",
          "model_module_version": "1.5.0",
          "state": {
            "_model_module": "@jupyter-widgets/controls",
            "_model_module_version": "1.5.0",
            "_model_name": "DescriptionStyleModel",
            "_view_count": null,
            "_view_module": "@jupyter-widgets/base",
            "_view_module_version": "1.2.0",
            "_view_name": "StyleView",
            "description_width": ""
          }
        },
        "f7ba4f8338914efba6e8445676d22996": {
          "model_module": "@jupyter-widgets/base",
          "model_name": "LayoutModel",
          "model_module_version": "1.2.0",
          "state": {
            "_model_module": "@jupyter-widgets/base",
            "_model_module_version": "1.2.0",
            "_model_name": "LayoutModel",
            "_view_count": null,
            "_view_module": "@jupyter-widgets/base",
            "_view_module_version": "1.2.0",
            "_view_name": "LayoutView",
            "align_content": null,
            "align_items": null,
            "align_self": null,
            "border": null,
            "bottom": null,
            "display": null,
            "flex": null,
            "flex_flow": null,
            "grid_area": null,
            "grid_auto_columns": null,
            "grid_auto_flow": null,
            "grid_auto_rows": null,
            "grid_column": null,
            "grid_gap": null,
            "grid_row": null,
            "grid_template_areas": null,
            "grid_template_columns": null,
            "grid_template_rows": null,
            "height": null,
            "justify_content": null,
            "justify_items": null,
            "left": null,
            "margin": null,
            "max_height": null,
            "max_width": null,
            "min_height": null,
            "min_width": null,
            "object_fit": null,
            "object_position": null,
            "order": null,
            "overflow": null,
            "overflow_x": null,
            "overflow_y": null,
            "padding": null,
            "right": null,
            "top": null,
            "visibility": null,
            "width": null
          }
        },
        "42a46f20f0eb43c29ff66d230de43411": {
          "model_module": "@jupyter-widgets/controls",
          "model_name": "ProgressStyleModel",
          "model_module_version": "1.5.0",
          "state": {
            "_model_module": "@jupyter-widgets/controls",
            "_model_module_version": "1.5.0",
            "_model_name": "ProgressStyleModel",
            "_view_count": null,
            "_view_module": "@jupyter-widgets/base",
            "_view_module_version": "1.2.0",
            "_view_name": "StyleView",
            "bar_color": null,
            "description_width": ""
          }
        },
        "b34de36522624bc4a4a41c253cf461ed": {
          "model_module": "@jupyter-widgets/base",
          "model_name": "LayoutModel",
          "model_module_version": "1.2.0",
          "state": {
            "_model_module": "@jupyter-widgets/base",
            "_model_module_version": "1.2.0",
            "_model_name": "LayoutModel",
            "_view_count": null,
            "_view_module": "@jupyter-widgets/base",
            "_view_module_version": "1.2.0",
            "_view_name": "LayoutView",
            "align_content": null,
            "align_items": null,
            "align_self": null,
            "border": null,
            "bottom": null,
            "display": null,
            "flex": null,
            "flex_flow": null,
            "grid_area": null,
            "grid_auto_columns": null,
            "grid_auto_flow": null,
            "grid_auto_rows": null,
            "grid_column": null,
            "grid_gap": null,
            "grid_row": null,
            "grid_template_areas": null,
            "grid_template_columns": null,
            "grid_template_rows": null,
            "height": null,
            "justify_content": null,
            "justify_items": null,
            "left": null,
            "margin": null,
            "max_height": null,
            "max_width": null,
            "min_height": null,
            "min_width": null,
            "object_fit": null,
            "object_position": null,
            "order": null,
            "overflow": null,
            "overflow_x": null,
            "overflow_y": null,
            "padding": null,
            "right": null,
            "top": null,
            "visibility": null,
            "width": null
          }
        },
        "5f1e67c8acad449cba0cd5745cf570af": {
          "model_module": "@jupyter-widgets/controls",
          "model_name": "DescriptionStyleModel",
          "model_module_version": "1.5.0",
          "state": {
            "_model_module": "@jupyter-widgets/controls",
            "_model_module_version": "1.5.0",
            "_model_name": "DescriptionStyleModel",
            "_view_count": null,
            "_view_module": "@jupyter-widgets/base",
            "_view_module_version": "1.2.0",
            "_view_name": "StyleView",
            "description_width": ""
          }
        },
        "2b16435fb7194c8c85c24b0f2cda8342": {
          "model_module": "@jupyter-widgets/controls",
          "model_name": "HBoxModel",
          "model_module_version": "1.5.0",
          "state": {
            "_dom_classes": [],
            "_model_module": "@jupyter-widgets/controls",
            "_model_module_version": "1.5.0",
            "_model_name": "HBoxModel",
            "_view_count": null,
            "_view_module": "@jupyter-widgets/controls",
            "_view_module_version": "1.5.0",
            "_view_name": "HBoxView",
            "box_style": "",
            "children": [
              "IPY_MODEL_918599bf7c7c4d13a7b140bcd3508422",
              "IPY_MODEL_a2ca5394d3eb45dcbf157a620466affb",
              "IPY_MODEL_26e7a828bf5043ec9e788413b4d0c06d"
            ],
            "layout": "IPY_MODEL_a36a64782b1c4262a0bef411ec0f0728"
          }
        },
        "918599bf7c7c4d13a7b140bcd3508422": {
          "model_module": "@jupyter-widgets/controls",
          "model_name": "HTMLModel",
          "model_module_version": "1.5.0",
          "state": {
            "_dom_classes": [],
            "_model_module": "@jupyter-widgets/controls",
            "_model_module_version": "1.5.0",
            "_model_name": "HTMLModel",
            "_view_count": null,
            "_view_module": "@jupyter-widgets/controls",
            "_view_module_version": "1.5.0",
            "_view_name": "HTMLView",
            "description": "",
            "description_tooltip": null,
            "layout": "IPY_MODEL_cd6fc7edd691415a80d8652a9dd0cf6a",
            "placeholder": "​",
            "style": "IPY_MODEL_a51fdb83f29444549d004d05f6843263",
            "value": "Downloading: 100%"
          }
        },
        "a2ca5394d3eb45dcbf157a620466affb": {
          "model_module": "@jupyter-widgets/controls",
          "model_name": "FloatProgressModel",
          "model_module_version": "1.5.0",
          "state": {
            "_dom_classes": [],
            "_model_module": "@jupyter-widgets/controls",
            "_model_module_version": "1.5.0",
            "_model_name": "FloatProgressModel",
            "_view_count": null,
            "_view_module": "@jupyter-widgets/controls",
            "_view_module_version": "1.5.0",
            "_view_name": "ProgressView",
            "bar_style": "success",
            "description": "",
            "description_tooltip": null,
            "layout": "IPY_MODEL_b48afbe3d83f421195498f99c2b99dad",
            "max": 536063208,
            "min": 0,
            "orientation": "horizontal",
            "style": "IPY_MODEL_97d4215a95b9418991fcb03da1c32f64",
            "value": 536063208
          }
        },
        "26e7a828bf5043ec9e788413b4d0c06d": {
          "model_module": "@jupyter-widgets/controls",
          "model_name": "HTMLModel",
          "model_module_version": "1.5.0",
          "state": {
            "_dom_classes": [],
            "_model_module": "@jupyter-widgets/controls",
            "_model_module_version": "1.5.0",
            "_model_name": "HTMLModel",
            "_view_count": null,
            "_view_module": "@jupyter-widgets/controls",
            "_view_module_version": "1.5.0",
            "_view_name": "HTMLView",
            "description": "",
            "description_tooltip": null,
            "layout": "IPY_MODEL_6da0046337a94711a1aef194952d2e24",
            "placeholder": "​",
            "style": "IPY_MODEL_d5f5b37734d94d4086bdd10dee507955",
            "value": " 511M/511M [00:09&lt;00:00, 56.0MB/s]"
          }
        },
        "a36a64782b1c4262a0bef411ec0f0728": {
          "model_module": "@jupyter-widgets/base",
          "model_name": "LayoutModel",
          "model_module_version": "1.2.0",
          "state": {
            "_model_module": "@jupyter-widgets/base",
            "_model_module_version": "1.2.0",
            "_model_name": "LayoutModel",
            "_view_count": null,
            "_view_module": "@jupyter-widgets/base",
            "_view_module_version": "1.2.0",
            "_view_name": "LayoutView",
            "align_content": null,
            "align_items": null,
            "align_self": null,
            "border": null,
            "bottom": null,
            "display": null,
            "flex": null,
            "flex_flow": null,
            "grid_area": null,
            "grid_auto_columns": null,
            "grid_auto_flow": null,
            "grid_auto_rows": null,
            "grid_column": null,
            "grid_gap": null,
            "grid_row": null,
            "grid_template_areas": null,
            "grid_template_columns": null,
            "grid_template_rows": null,
            "height": null,
            "justify_content": null,
            "justify_items": null,
            "left": null,
            "margin": null,
            "max_height": null,
            "max_width": null,
            "min_height": null,
            "min_width": null,
            "object_fit": null,
            "object_position": null,
            "order": null,
            "overflow": null,
            "overflow_x": null,
            "overflow_y": null,
            "padding": null,
            "right": null,
            "top": null,
            "visibility": null,
            "width": null
          }
        },
        "cd6fc7edd691415a80d8652a9dd0cf6a": {
          "model_module": "@jupyter-widgets/base",
          "model_name": "LayoutModel",
          "model_module_version": "1.2.0",
          "state": {
            "_model_module": "@jupyter-widgets/base",
            "_model_module_version": "1.2.0",
            "_model_name": "LayoutModel",
            "_view_count": null,
            "_view_module": "@jupyter-widgets/base",
            "_view_module_version": "1.2.0",
            "_view_name": "LayoutView",
            "align_content": null,
            "align_items": null,
            "align_self": null,
            "border": null,
            "bottom": null,
            "display": null,
            "flex": null,
            "flex_flow": null,
            "grid_area": null,
            "grid_auto_columns": null,
            "grid_auto_flow": null,
            "grid_auto_rows": null,
            "grid_column": null,
            "grid_gap": null,
            "grid_row": null,
            "grid_template_areas": null,
            "grid_template_columns": null,
            "grid_template_rows": null,
            "height": null,
            "justify_content": null,
            "justify_items": null,
            "left": null,
            "margin": null,
            "max_height": null,
            "max_width": null,
            "min_height": null,
            "min_width": null,
            "object_fit": null,
            "object_position": null,
            "order": null,
            "overflow": null,
            "overflow_x": null,
            "overflow_y": null,
            "padding": null,
            "right": null,
            "top": null,
            "visibility": null,
            "width": null
          }
        },
        "a51fdb83f29444549d004d05f6843263": {
          "model_module": "@jupyter-widgets/controls",
          "model_name": "DescriptionStyleModel",
          "model_module_version": "1.5.0",
          "state": {
            "_model_module": "@jupyter-widgets/controls",
            "_model_module_version": "1.5.0",
            "_model_name": "DescriptionStyleModel",
            "_view_count": null,
            "_view_module": "@jupyter-widgets/base",
            "_view_module_version": "1.2.0",
            "_view_name": "StyleView",
            "description_width": ""
          }
        },
        "b48afbe3d83f421195498f99c2b99dad": {
          "model_module": "@jupyter-widgets/base",
          "model_name": "LayoutModel",
          "model_module_version": "1.2.0",
          "state": {
            "_model_module": "@jupyter-widgets/base",
            "_model_module_version": "1.2.0",
            "_model_name": "LayoutModel",
            "_view_count": null,
            "_view_module": "@jupyter-widgets/base",
            "_view_module_version": "1.2.0",
            "_view_name": "LayoutView",
            "align_content": null,
            "align_items": null,
            "align_self": null,
            "border": null,
            "bottom": null,
            "display": null,
            "flex": null,
            "flex_flow": null,
            "grid_area": null,
            "grid_auto_columns": null,
            "grid_auto_flow": null,
            "grid_auto_rows": null,
            "grid_column": null,
            "grid_gap": null,
            "grid_row": null,
            "grid_template_areas": null,
            "grid_template_columns": null,
            "grid_template_rows": null,
            "height": null,
            "justify_content": null,
            "justify_items": null,
            "left": null,
            "margin": null,
            "max_height": null,
            "max_width": null,
            "min_height": null,
            "min_width": null,
            "object_fit": null,
            "object_position": null,
            "order": null,
            "overflow": null,
            "overflow_x": null,
            "overflow_y": null,
            "padding": null,
            "right": null,
            "top": null,
            "visibility": null,
            "width": null
          }
        },
        "97d4215a95b9418991fcb03da1c32f64": {
          "model_module": "@jupyter-widgets/controls",
          "model_name": "ProgressStyleModel",
          "model_module_version": "1.5.0",
          "state": {
            "_model_module": "@jupyter-widgets/controls",
            "_model_module_version": "1.5.0",
            "_model_name": "ProgressStyleModel",
            "_view_count": null,
            "_view_module": "@jupyter-widgets/base",
            "_view_module_version": "1.2.0",
            "_view_name": "StyleView",
            "bar_color": null,
            "description_width": ""
          }
        },
        "6da0046337a94711a1aef194952d2e24": {
          "model_module": "@jupyter-widgets/base",
          "model_name": "LayoutModel",
          "model_module_version": "1.2.0",
          "state": {
            "_model_module": "@jupyter-widgets/base",
            "_model_module_version": "1.2.0",
            "_model_name": "LayoutModel",
            "_view_count": null,
            "_view_module": "@jupyter-widgets/base",
            "_view_module_version": "1.2.0",
            "_view_name": "LayoutView",
            "align_content": null,
            "align_items": null,
            "align_self": null,
            "border": null,
            "bottom": null,
            "display": null,
            "flex": null,
            "flex_flow": null,
            "grid_area": null,
            "grid_auto_columns": null,
            "grid_auto_flow": null,
            "grid_auto_rows": null,
            "grid_column": null,
            "grid_gap": null,
            "grid_row": null,
            "grid_template_areas": null,
            "grid_template_columns": null,
            "grid_template_rows": null,
            "height": null,
            "justify_content": null,
            "justify_items": null,
            "left": null,
            "margin": null,
            "max_height": null,
            "max_width": null,
            "min_height": null,
            "min_width": null,
            "object_fit": null,
            "object_position": null,
            "order": null,
            "overflow": null,
            "overflow_x": null,
            "overflow_y": null,
            "padding": null,
            "right": null,
            "top": null,
            "visibility": null,
            "width": null
          }
        },
        "d5f5b37734d94d4086bdd10dee507955": {
          "model_module": "@jupyter-widgets/controls",
          "model_name": "DescriptionStyleModel",
          "model_module_version": "1.5.0",
          "state": {
            "_model_module": "@jupyter-widgets/controls",
            "_model_module_version": "1.5.0",
            "_model_name": "DescriptionStyleModel",
            "_view_count": null,
            "_view_module": "@jupyter-widgets/base",
            "_view_module_version": "1.2.0",
            "_view_name": "StyleView",
            "description_width": ""
          }
        }
      }
    }
  },
  "nbformat": 4,
  "nbformat_minor": 5
}